{
 "cells": [
  {
   "cell_type": "markdown",
   "metadata": {},
   "source": [
    "# DNA dataset"
   ]
  },
  {
   "cell_type": "markdown",
   "metadata": {},
   "source": [
    "## Retrieval"
   ]
  },
  {
   "cell_type": "code",
   "execution_count": 3,
   "metadata": {
    "executionInfo": {
     "elapsed": 358,
     "status": "ok",
     "timestamp": 1713988733653,
     "user": {
      "displayName": "Federico Pivotto",
      "userId": "03771647288797286069"
     },
     "user_tz": -120
    },
    "id": "SXwB9yhWqslD",
    "tags": []
   },
   "outputs": [],
   "source": [
    "# Module for downloading files\n",
    "import urllib.request\n",
    "\n",
    "# Module for handling files\n",
    "import os.path"
   ]
  },
  {
   "cell_type": "code",
   "execution_count": 4,
   "metadata": {
    "executionInfo": {
     "elapsed": 4,
     "status": "ok",
     "timestamp": 1713988734049,
     "user": {
      "displayName": "Federico Pivotto",
      "userId": "03771647288797286069"
     },
     "user_tz": -120
    },
    "id": "_RIKhqcIeLqh"
   },
   "outputs": [],
   "source": [
    "# Download train dataset from source\n",
    "if not os.path.isfile('./dataset/fullset_train.csv'):\n",
    "    opener = urllib.request.build_opener()\n",
    "    urllib.request.install_opener(opener)\n",
    "    urllib.request.urlretrieve('https://raw.githubusercontent.com/NeuroCSUT/ViraMiner/master/data/DNA_data/fullset_train.csv', './dataset/fullset_train.csv')\n",
    "\n",
    "# Download validation dataset from source\n",
    "if not os.path.isfile('./dataset/fullset_validation.csv'):\n",
    "    opener = urllib.request.build_opener()\n",
    "    urllib.request.install_opener(opener)\n",
    "    urllib.request.urlretrieve('https://raw.githubusercontent.com/NeuroCSUT/ViraMiner/master/data/DNA_data/fullset_validation.csv', './dataset/fullset_validation.csv')\n",
    "\n",
    "# Download validation dataset from source\n",
    "if not os.path.isfile('./dataset/fullset_test.csv'):\n",
    "    opener = urllib.request.build_opener()\n",
    "    urllib.request.install_opener(opener)\n",
    "    urllib.request.urlretrieve('https://raw.githubusercontent.com/NeuroCSUT/ViraMiner/master/data/DNA_data/fullset_test.csv', './dataset/fullset_test.csv')"
   ]
  },
  {
   "cell_type": "markdown",
   "metadata": {},
   "source": [
    "## Preprocessing"
   ]
  },
  {
   "cell_type": "code",
   "execution_count": 6,
   "metadata": {
    "executionInfo": {
     "elapsed": 5,
     "status": "ok",
     "timestamp": 1713988734373,
     "user": {
      "displayName": "Federico Pivotto",
      "userId": "03771647288797286069"
     },
     "user_tz": -120
    },
    "id": "Lm0OoH4DruXS"
   },
   "outputs": [],
   "source": [
    "# Module for data analysis\n",
    "import pandas as pd"
   ]
  },
  {
   "cell_type": "code",
   "execution_count": 7,
   "metadata": {
    "colab": {
     "base_uri": "https://localhost:8080/",
     "height": 287
    },
    "executionInfo": {
     "elapsed": 14,
     "status": "error",
     "timestamp": 1713988778128,
     "user": {
      "displayName": "Federico Pivotto",
      "userId": "03771647288797286069"
     },
     "user_tz": -120
    },
    "id": "oWzWbc4Cn75p",
    "outputId": "bd233d07-9b52-4bf3-9b36-0a4555531098"
   },
   "outputs": [],
   "source": [
    "# Read train dataset\n",
    "df_train = pd.read_csv('./dataset/fullset_train.csv', header=None, on_bad_lines='skip')\n",
    "# Drop features\n",
    "df_train.drop(0, axis=1, inplace=True)\n",
    "# Remove duplicates\n",
    "df_train.drop_duplicates(inplace=True)\n",
    "\n",
    "# Read validation dataset\n",
    "df_val = pd.read_csv('./dataset/fullset_validation.csv', header=None, on_bad_lines='skip')\n",
    "# Drop features\n",
    "df_val.drop(0, axis=1, inplace=True)\n",
    "# Remove duplicates\n",
    "df_val.drop_duplicates(inplace=True)\n",
    "\n",
    "# Read test dataset\n",
    "df_test = pd.read_csv('./dataset/fullset_test.csv', header=None, on_bad_lines='skip')\n",
    "# Drop features\n",
    "df_test.drop(0, axis=1, inplace=True)\n",
    "# Remove duplicates\n",
    "df_test.drop_duplicates(inplace=True)"
   ]
  },
  {
   "cell_type": "markdown",
   "metadata": {},
   "source": [
    "## Preview"
   ]
  },
  {
   "cell_type": "code",
   "execution_count": 9,
   "metadata": {},
   "outputs": [
    {
     "data": {
      "text/html": [
       "<div>\n",
       "<style scoped>\n",
       "    .dataframe tbody tr th:only-of-type {\n",
       "        vertical-align: middle;\n",
       "    }\n",
       "\n",
       "    .dataframe tbody tr th {\n",
       "        vertical-align: top;\n",
       "    }\n",
       "\n",
       "    .dataframe thead th {\n",
       "        text-align: right;\n",
       "    }\n",
       "</style>\n",
       "<table border=\"1\" class=\"dataframe\">\n",
       "  <thead>\n",
       "    <tr style=\"text-align: right;\">\n",
       "      <th></th>\n",
       "      <th>1</th>\n",
       "      <th>2</th>\n",
       "    </tr>\n",
       "  </thead>\n",
       "  <tbody>\n",
       "    <tr>\n",
       "      <th>0</th>\n",
       "      <td>CAAGCCAAGATTTTCTCGCGTCACACTACTCATGACCATTGTATTA...</td>\n",
       "      <td>0</td>\n",
       "    </tr>\n",
       "    <tr>\n",
       "      <th>1</th>\n",
       "      <td>AACGAAGCACGGGCCGAGAGATTGAGGAACCAAGGTCCAGCTCTAG...</td>\n",
       "      <td>0</td>\n",
       "    </tr>\n",
       "    <tr>\n",
       "      <th>2</th>\n",
       "      <td>TAGTGGGTGAGGTTTCTATTTCCATAATGATCTCGCCTCAATTACT...</td>\n",
       "      <td>0</td>\n",
       "    </tr>\n",
       "    <tr>\n",
       "      <th>3</th>\n",
       "      <td>ATATGACCATTCTTGCAAGGTAACACAGGTACATTTTCACAAAGTG...</td>\n",
       "      <td>0</td>\n",
       "    </tr>\n",
       "    <tr>\n",
       "      <th>4</th>\n",
       "      <td>GGTCTTAAAACAACAGAAATTTTTTCCATCACAGTTGCAGAAATTA...</td>\n",
       "      <td>0</td>\n",
       "    </tr>\n",
       "    <tr>\n",
       "      <th>...</th>\n",
       "      <td>...</td>\n",
       "      <td>...</td>\n",
       "    </tr>\n",
       "    <tr>\n",
       "      <th>211234</th>\n",
       "      <td>TCTTCTTTTTTTTAAAAGTGTTTAGGAAGTTGTAAAATTCATCCAA...</td>\n",
       "      <td>0</td>\n",
       "    </tr>\n",
       "    <tr>\n",
       "      <th>211235</th>\n",
       "      <td>AAACCATTTCTGCCTCCCCACTTTCATCATCGTCATGTAAGTCACA...</td>\n",
       "      <td>0</td>\n",
       "    </tr>\n",
       "    <tr>\n",
       "      <th>211236</th>\n",
       "      <td>ACGCTCACGTTGGAGATGATGAAAAGAACAAGAAATACGCCGATGA...</td>\n",
       "      <td>0</td>\n",
       "    </tr>\n",
       "    <tr>\n",
       "      <th>211237</th>\n",
       "      <td>GCCTTGCCTGTTACATTTTACTTCTTCCAGCAGGGCATGCAGAGAG...</td>\n",
       "      <td>0</td>\n",
       "    </tr>\n",
       "    <tr>\n",
       "      <th>211238</th>\n",
       "      <td>CTAAAATCATATAAAGTAATAAGACTACAACATTGACAAGATGTAA...</td>\n",
       "      <td>0</td>\n",
       "    </tr>\n",
       "  </tbody>\n",
       "</table>\n",
       "<p>210951 rows × 2 columns</p>\n",
       "</div>"
      ],
      "text/plain": [
       "                                                        1  2\n",
       "0       CAAGCCAAGATTTTCTCGCGTCACACTACTCATGACCATTGTATTA...  0\n",
       "1       AACGAAGCACGGGCCGAGAGATTGAGGAACCAAGGTCCAGCTCTAG...  0\n",
       "2       TAGTGGGTGAGGTTTCTATTTCCATAATGATCTCGCCTCAATTACT...  0\n",
       "3       ATATGACCATTCTTGCAAGGTAACACAGGTACATTTTCACAAAGTG...  0\n",
       "4       GGTCTTAAAACAACAGAAATTTTTTCCATCACAGTTGCAGAAATTA...  0\n",
       "...                                                   ... ..\n",
       "211234  TCTTCTTTTTTTTAAAAGTGTTTAGGAAGTTGTAAAATTCATCCAA...  0\n",
       "211235  AAACCATTTCTGCCTCCCCACTTTCATCATCGTCATGTAAGTCACA...  0\n",
       "211236  ACGCTCACGTTGGAGATGATGAAAAGAACAAGAAATACGCCGATGA...  0\n",
       "211237  GCCTTGCCTGTTACATTTTACTTCTTCCAGCAGGGCATGCAGAGAG...  0\n",
       "211238  CTAAAATCATATAAAGTAATAAGACTACAACATTGACAAGATGTAA...  0\n",
       "\n",
       "[210951 rows x 2 columns]"
      ]
     },
     "execution_count": 9,
     "metadata": {},
     "output_type": "execute_result"
    }
   ],
   "source": [
    "# Show train dataset\n",
    "df_train"
   ]
  },
  {
   "cell_type": "code",
   "execution_count": 10,
   "metadata": {},
   "outputs": [
    {
     "data": {
      "text/html": [
       "<div>\n",
       "<style scoped>\n",
       "    .dataframe tbody tr th:only-of-type {\n",
       "        vertical-align: middle;\n",
       "    }\n",
       "\n",
       "    .dataframe tbody tr th {\n",
       "        vertical-align: top;\n",
       "    }\n",
       "\n",
       "    .dataframe thead th {\n",
       "        text-align: right;\n",
       "    }\n",
       "</style>\n",
       "<table border=\"1\" class=\"dataframe\">\n",
       "  <thead>\n",
       "    <tr style=\"text-align: right;\">\n",
       "      <th></th>\n",
       "      <th>1</th>\n",
       "      <th>2</th>\n",
       "    </tr>\n",
       "  </thead>\n",
       "  <tbody>\n",
       "    <tr>\n",
       "      <th>0</th>\n",
       "      <td>CTTATCTGTTTCTTACTGAGCATGGTATCCGTGGTGGCCTTGAGGT...</td>\n",
       "      <td>0</td>\n",
       "    </tr>\n",
       "    <tr>\n",
       "      <th>1</th>\n",
       "      <td>TAAATAGAAGGAATTGGAGGGACAAACGATGAATGAAGAATTAATG...</td>\n",
       "      <td>1</td>\n",
       "    </tr>\n",
       "    <tr>\n",
       "      <th>2</th>\n",
       "      <td>CCCTGGGGATGCCCAAAATGCTCATGGGATGAGGGTATGTGAACTA...</td>\n",
       "      <td>0</td>\n",
       "    </tr>\n",
       "    <tr>\n",
       "      <th>3</th>\n",
       "      <td>GCATGCAATAGCCTGGTTGAATCCTGGACACAGCAAACATAGTTTG...</td>\n",
       "      <td>0</td>\n",
       "    </tr>\n",
       "    <tr>\n",
       "      <th>4</th>\n",
       "      <td>TTGTTCACAATGAGGCACTTCCAACCCTTTTGATGTCCTCTGACTT...</td>\n",
       "      <td>0</td>\n",
       "    </tr>\n",
       "    <tr>\n",
       "      <th>...</th>\n",
       "      <td>...</td>\n",
       "      <td>...</td>\n",
       "    </tr>\n",
       "    <tr>\n",
       "      <th>26400</th>\n",
       "      <td>GTGAGCCACTGCACCTGGCCCTGACTGTAATTTTTAAAGACTGTTT...</td>\n",
       "      <td>0</td>\n",
       "    </tr>\n",
       "    <tr>\n",
       "      <th>26401</th>\n",
       "      <td>CAGCCTGGCCTAGACCCACATTCAGAAAACAATGGCCCCAGGATAA...</td>\n",
       "      <td>0</td>\n",
       "    </tr>\n",
       "    <tr>\n",
       "      <th>26402</th>\n",
       "      <td>CCAGCTAAGAAAGCTCAGGGGCTGGAGAGCTCTGGTACACCACCAC...</td>\n",
       "      <td>0</td>\n",
       "    </tr>\n",
       "    <tr>\n",
       "      <th>26403</th>\n",
       "      <td>ATAGCGGGTACTGAGGGGCATTCATGACCACTTTCCTCCACGAAAC...</td>\n",
       "      <td>0</td>\n",
       "    </tr>\n",
       "    <tr>\n",
       "      <th>26404</th>\n",
       "      <td>GGGTGAACTCCTCAGTTGGCACAACCTAGCCAACTAGCCAACAGGA...</td>\n",
       "      <td>0</td>\n",
       "    </tr>\n",
       "  </tbody>\n",
       "</table>\n",
       "<p>26398 rows × 2 columns</p>\n",
       "</div>"
      ],
      "text/plain": [
       "                                                       1  2\n",
       "0      CTTATCTGTTTCTTACTGAGCATGGTATCCGTGGTGGCCTTGAGGT...  0\n",
       "1      TAAATAGAAGGAATTGGAGGGACAAACGATGAATGAAGAATTAATG...  1\n",
       "2      CCCTGGGGATGCCCAAAATGCTCATGGGATGAGGGTATGTGAACTA...  0\n",
       "3      GCATGCAATAGCCTGGTTGAATCCTGGACACAGCAAACATAGTTTG...  0\n",
       "4      TTGTTCACAATGAGGCACTTCCAACCCTTTTGATGTCCTCTGACTT...  0\n",
       "...                                                  ... ..\n",
       "26400  GTGAGCCACTGCACCTGGCCCTGACTGTAATTTTTAAAGACTGTTT...  0\n",
       "26401  CAGCCTGGCCTAGACCCACATTCAGAAAACAATGGCCCCAGGATAA...  0\n",
       "26402  CCAGCTAAGAAAGCTCAGGGGCTGGAGAGCTCTGGTACACCACCAC...  0\n",
       "26403  ATAGCGGGTACTGAGGGGCATTCATGACCACTTTCCTCCACGAAAC...  0\n",
       "26404  GGGTGAACTCCTCAGTTGGCACAACCTAGCCAACTAGCCAACAGGA...  0\n",
       "\n",
       "[26398 rows x 2 columns]"
      ]
     },
     "execution_count": 10,
     "metadata": {},
     "output_type": "execute_result"
    }
   ],
   "source": [
    "# Show validation dataset\n",
    "df_val"
   ]
  },
  {
   "cell_type": "code",
   "execution_count": 11,
   "metadata": {},
   "outputs": [
    {
     "data": {
      "text/html": [
       "<div>\n",
       "<style scoped>\n",
       "    .dataframe tbody tr th:only-of-type {\n",
       "        vertical-align: middle;\n",
       "    }\n",
       "\n",
       "    .dataframe tbody tr th {\n",
       "        vertical-align: top;\n",
       "    }\n",
       "\n",
       "    .dataframe thead th {\n",
       "        text-align: right;\n",
       "    }\n",
       "</style>\n",
       "<table border=\"1\" class=\"dataframe\">\n",
       "  <thead>\n",
       "    <tr style=\"text-align: right;\">\n",
       "      <th></th>\n",
       "      <th>1</th>\n",
       "      <th>2</th>\n",
       "    </tr>\n",
       "  </thead>\n",
       "  <tbody>\n",
       "    <tr>\n",
       "      <th>0</th>\n",
       "      <td>CCTGGGACCACTGTAGTTGTGGACCATACGGGGCTCTTTCTGTTGA...</td>\n",
       "      <td>0</td>\n",
       "    </tr>\n",
       "    <tr>\n",
       "      <th>1</th>\n",
       "      <td>GGCCTGAGCCTCCCAGTTTGGAGTAGGGCCTCTTAAGGAAAAAAGA...</td>\n",
       "      <td>0</td>\n",
       "    </tr>\n",
       "    <tr>\n",
       "      <th>2</th>\n",
       "      <td>TGAGCACATATCTGTGGGGCAGGTGGGGAATAAACAGCACAATTAC...</td>\n",
       "      <td>0</td>\n",
       "    </tr>\n",
       "    <tr>\n",
       "      <th>3</th>\n",
       "      <td>AACCATGCAGAAGCAAAAATTTTGAGAACATAAGGCCTTCACGAAC...</td>\n",
       "      <td>0</td>\n",
       "    </tr>\n",
       "    <tr>\n",
       "      <th>4</th>\n",
       "      <td>GAGATTTGGATGGGAACACAGACAAACCATACAACTAAGGAAACTT...</td>\n",
       "      <td>0</td>\n",
       "    </tr>\n",
       "    <tr>\n",
       "      <th>...</th>\n",
       "      <td>...</td>\n",
       "      <td>...</td>\n",
       "    </tr>\n",
       "    <tr>\n",
       "      <th>26400</th>\n",
       "      <td>GGCTTGCTGTGAGAAATGAATTTATGAATTCGGTTCTTGCTGAAGC...</td>\n",
       "      <td>0</td>\n",
       "    </tr>\n",
       "    <tr>\n",
       "      <th>26401</th>\n",
       "      <td>TTTTGTGACTTGGGTTGTCTTTTGTATTCATTGGTAGGGCAGTCGA...</td>\n",
       "      <td>0</td>\n",
       "    </tr>\n",
       "    <tr>\n",
       "      <th>26402</th>\n",
       "      <td>TCTTTCAGGTACATATTGAAATCCCTGTGGATAACTTAGCTATATC...</td>\n",
       "      <td>0</td>\n",
       "    </tr>\n",
       "    <tr>\n",
       "      <th>26403</th>\n",
       "      <td>GGGACACCCTGAGCTCGTCTTCTCACCCCTAGCCTTTCTGCTCCCT...</td>\n",
       "      <td>0</td>\n",
       "    </tr>\n",
       "    <tr>\n",
       "      <th>26404</th>\n",
       "      <td>CCTCTGACAACAGGCCAGCATCCAGAAACCACTCGGTCTGGCAACC...</td>\n",
       "      <td>0</td>\n",
       "    </tr>\n",
       "  </tbody>\n",
       "</table>\n",
       "<p>26401 rows × 2 columns</p>\n",
       "</div>"
      ],
      "text/plain": [
       "                                                       1  2\n",
       "0      CCTGGGACCACTGTAGTTGTGGACCATACGGGGCTCTTTCTGTTGA...  0\n",
       "1      GGCCTGAGCCTCCCAGTTTGGAGTAGGGCCTCTTAAGGAAAAAAGA...  0\n",
       "2      TGAGCACATATCTGTGGGGCAGGTGGGGAATAAACAGCACAATTAC...  0\n",
       "3      AACCATGCAGAAGCAAAAATTTTGAGAACATAAGGCCTTCACGAAC...  0\n",
       "4      GAGATTTGGATGGGAACACAGACAAACCATACAACTAAGGAAACTT...  0\n",
       "...                                                  ... ..\n",
       "26400  GGCTTGCTGTGAGAAATGAATTTATGAATTCGGTTCTTGCTGAAGC...  0\n",
       "26401  TTTTGTGACTTGGGTTGTCTTTTGTATTCATTGGTAGGGCAGTCGA...  0\n",
       "26402  TCTTTCAGGTACATATTGAAATCCCTGTGGATAACTTAGCTATATC...  0\n",
       "26403  GGGACACCCTGAGCTCGTCTTCTCACCCCTAGCCTTTCTGCTCCCT...  0\n",
       "26404  CCTCTGACAACAGGCCAGCATCCAGAAACCACTCGGTCTGGCAACC...  0\n",
       "\n",
       "[26401 rows x 2 columns]"
      ]
     },
     "execution_count": 11,
     "metadata": {},
     "output_type": "execute_result"
    }
   ],
   "source": [
    "# Show test dataset\n",
    "df_test"
   ]
  },
  {
   "cell_type": "markdown",
   "metadata": {},
   "source": [
    "## One-hot encoding"
   ]
  },
  {
   "cell_type": "markdown",
   "metadata": {},
   "source": [
    "### DNA encoding"
   ]
  },
  {
   "cell_type": "code",
   "execution_count": 14,
   "metadata": {},
   "outputs": [],
   "source": [
    "# Module for numpy vectors\n",
    "import numpy as np"
   ]
  },
  {
   "cell_type": "code",
   "execution_count": 15,
   "metadata": {},
   "outputs": [],
   "source": [
    "# One-hot encoding\n",
    "def one_hot_encode(seq):\n",
    "    # Make sure seq has only allowed bases\n",
    "    allowed = set('ACGTN')\n",
    "    if not set(seq).issubset(allowed):\n",
    "        invalid = set(seq) - allowed\n",
    "        raise ValueError(f'Sequence contains chars not in allowed DNA alphabet (ACGTN): {invalid}')\n",
    "        \n",
    "    # Dictionary returning one-hot encoding for each nucleotide \n",
    "    nuc_d = {'A':[1, 0, 0, 0, 0],\n",
    "             'C':[0, 1, 0, 0, 0],\n",
    "             'G':[0, 0, 1, 0, 0],\n",
    "             'T':[0, 0, 0, 1, 0],\n",
    "             'N':[0, 0, 0, 0, 1]}\n",
    "    \n",
    "    # Create array from nucleotide sequence\n",
    "    vec = np.array([nuc_d[x] for x in seq])\n",
    "\n",
    "    # Return one-hot encoding\n",
    "    return vec"
   ]
  },
  {
   "cell_type": "markdown",
   "metadata": {},
   "source": [
    "### Dataset encoding"
   ]
  },
  {
   "cell_type": "code",
   "execution_count": 17,
   "metadata": {},
   "outputs": [
    {
     "name": "stdout",
     "output_type": "stream",
     "text": [
      "Requirement already satisfied: torch in c:\\users\\mgeni\\anaconda3\\lib\\site-packages (2.3.0+cu118)\n",
      "Requirement already satisfied: filelock in c:\\users\\mgeni\\anaconda3\\lib\\site-packages (from torch) (3.13.1)\n",
      "Requirement already satisfied: typing-extensions>=4.8.0 in c:\\users\\mgeni\\anaconda3\\lib\\site-packages (from torch) (4.9.0)\n",
      "Requirement already satisfied: sympy in c:\\users\\mgeni\\anaconda3\\lib\\site-packages (from torch) (1.12)\n",
      "Requirement already satisfied: networkx in c:\\users\\mgeni\\anaconda3\\lib\\site-packages (from torch) (3.1)\n",
      "Requirement already satisfied: jinja2 in c:\\users\\mgeni\\anaconda3\\lib\\site-packages (from torch) (3.1.3)\n",
      "Requirement already satisfied: fsspec in c:\\users\\mgeni\\anaconda3\\lib\\site-packages (from torch) (2023.10.0)\n",
      "Requirement already satisfied: mkl<=2021.4.0,>=2021.1.1 in c:\\users\\mgeni\\anaconda3\\lib\\site-packages (from torch) (2021.4.0)\n",
      "Requirement already satisfied: intel-openmp==2021.* in c:\\users\\mgeni\\anaconda3\\lib\\site-packages (from mkl<=2021.4.0,>=2021.1.1->torch) (2021.4.0)\n",
      "Requirement already satisfied: tbb==2021.* in c:\\users\\mgeni\\anaconda3\\lib\\site-packages (from mkl<=2021.4.0,>=2021.1.1->torch) (2021.11.0)\n",
      "Requirement already satisfied: MarkupSafe>=2.0 in c:\\users\\mgeni\\anaconda3\\lib\\site-packages (from jinja2->torch) (2.1.3)\n",
      "Requirement already satisfied: mpmath>=0.19 in c:\\users\\mgeni\\anaconda3\\lib\\site-packages (from sympy->torch) (1.3.0)\n"
     ]
    }
   ],
   "source": [
    "# Install PyTorch\n",
    "!pip install torch"
   ]
  },
  {
   "cell_type": "code",
   "execution_count": 18,
   "metadata": {},
   "outputs": [],
   "source": [
    "# Module for learning models\n",
    "import torch\n",
    "\n",
    "# Module for data manipulation\n",
    "from torch.utils.data import Dataset, DataLoader"
   ]
  },
  {
   "cell_type": "code",
   "execution_count": 19,
   "metadata": {},
   "outputs": [],
   "source": [
    "# Class for one-hot encoding DNA datasets\n",
    "class DatasetOHE(Dataset):\n",
    "    \n",
    "    def __init__(self, df, seq_col=1, target_col=2):\n",
    "        # Get X sequences from correct column in dataframe\n",
    "        self.seqs = list(df[seq_col].values)\n",
    "        self.seq_len = len(self.seqs[0])\n",
    "\n",
    "        # One-hot encode and stack sequences in torch tensor\n",
    "        self.ohe_seqs = torch.stack([torch.tensor(one_hot_encode(x)) for x in self.seqs])\n",
    "    \n",
    "        # Get Y labels\n",
    "        self.labels = torch.tensor(list(df[target_col].values)).unsqueeze(1)\n",
    "        \n",
    "    def __len__(self):\n",
    "        # Return sequence length\n",
    "        return len(self.seqs)\n",
    "    \n",
    "    def __getitem__(self, idx):\n",
    "        # Indexed one-encoded sequence and its label\n",
    "        seq = self.ohe_seqs[idx]\n",
    "        label = self.labels[idx]\n",
    "\n",
    "        # Return extracted element\n",
    "        return seq, label"
   ]
  },
  {
   "cell_type": "code",
   "execution_count": 20,
   "metadata": {},
   "outputs": [],
   "source": [
    "# Build one-endoded dataloader from dataframe\n",
    "def build_dataloader(df, seq_col=1, target_col=2, batch_size=128, shuffle=False):\n",
    "    # Create dataset\n",
    "    ds = DatasetOHE(df, seq_col, target_col)\n",
    "    # Put dataset into data loader\n",
    "    dl = DataLoader(dataset=ds, batch_size=batch_size, shuffle=shuffle)\n",
    "    \n",
    "    return dl"
   ]
  },
  {
   "cell_type": "code",
   "execution_count": 21,
   "metadata": {},
   "outputs": [],
   "source": [
    "# One-hot encoded dataloader for training\n",
    "train_dl = build_dataloader(df_train, shuffle=False)\n",
    "\n",
    "# One-hot encoded dataloader for validation\n",
    "val_dl = build_dataloader(df_val, shuffle=False)\n",
    "\n",
    "# One-hot encoded dataloader for test\n",
    "test_dl = build_dataloader(df_test, shuffle=False)"
   ]
  },
  {
   "cell_type": "markdown",
   "metadata": {},
   "source": [
    "# Frequency branch"
   ]
  },
  {
   "cell_type": "markdown",
   "metadata": {},
   "source": [
    "## Debug layer"
   ]
  },
  {
   "cell_type": "code",
   "execution_count": 24,
   "metadata": {},
   "outputs": [],
   "source": [
    "# Module for neural network\n",
    "import torch.nn as nn"
   ]
  },
  {
   "cell_type": "code",
   "execution_count": 25,
   "metadata": {},
   "outputs": [],
   "source": [
    "# Debug layer\n",
    "class DebugLayer(nn.Module):\n",
    "    \n",
    "    def __init__(self):\n",
    "        super(DebugLayer, self).__init__()\n",
    "    \n",
    "    def forward(self, x):\n",
    "        # Print input shape\n",
    "        print(f'x.shape: {x.shape}')\n",
    "        # Print input value\n",
    "        print(f'x: {x}')\n",
    "\n",
    "        # Return input\n",
    "        return x"
   ]
  },
  {
   "cell_type": "markdown",
   "metadata": {},
   "source": [
    "## CNN architecture"
   ]
  },
  {
   "cell_type": "code",
   "execution_count": 27,
   "metadata": {},
   "outputs": [],
   "source": [
    "# CNN frequency model\n",
    "class FrequencyCNN(nn.Module):\n",
    "    \n",
    "    def __init__(self, in_length, in_channels, kernel_1d, linear_size, dropout):\n",
    "        super(FrequencyCNN, self).__init__()\n",
    "\n",
    "        # Network architecture\n",
    "        self.frequency_cnn = nn.Sequential(\n",
    "            # 1st layer\n",
    "            nn.Conv1d(in_channels, linear_size, kernel_1d),\n",
    "\n",
    "            # Activation function\n",
    "            nn.ReLU(inplace=True),\n",
    "            \n",
    "            # 2nd layer\n",
    "            nn.AvgPool1d(in_length - kernel_1d + 1, stride=1),\n",
    "            \n",
    "            # 3rd layer\n",
    "            nn.Dropout(dropout),\n",
    "            \n",
    "            # 4th layer\n",
    "            nn.Flatten(),\n",
    "            \n",
    "            # 5th layer\n",
    "            nn.Linear(linear_size, linear_size),\n",
    "\n",
    "            # Activation function\n",
    "            nn.ReLU(inplace=True),\n",
    "            \n",
    "            # 6th layer\n",
    "            nn.Dropout(dropout),\n",
    "\n",
    "            # 7th layer\n",
    "            nn.Linear(linear_size, 1),\n",
    "\n",
    "            # Activation function\n",
    "            nn.Sigmoid()\n",
    "        )\n",
    "\n",
    "    def forward(self, x):\n",
    "        # Input shape: batch, sequence length, channels\n",
    "        x = x.permute(0, 2, 1)\n",
    "\n",
    "        # Modified input shape: batch, channels, width\n",
    "        out = self.frequency_cnn(x)\n",
    "\n",
    "        # Return output node\n",
    "        return out"
   ]
  },
  {
   "cell_type": "markdown",
   "metadata": {},
   "source": [
    "# Model training"
   ]
  },
  {
   "cell_type": "markdown",
   "metadata": {},
   "source": [
    "## Hyperparameter"
   ]
  },
  {
   "cell_type": "code",
   "execution_count": 30,
   "metadata": {},
   "outputs": [],
   "source": [
    "# Sequence features\n",
    "sequence_length = 300\n",
    "sequence_channels = 5\n",
    "\n",
    "# Network features\n",
    "kernel_1d = 8\n",
    "linear_size = 1000\n",
    "dropout = [0.1, 0.5]\n",
    "\n",
    "# Training features\n",
    "learning_rate = [0.01, 0.001, 0.0001]\n",
    "learning_rate_update = [True, False]\n",
    "epochs = 10"
   ]
  },
  {
   "cell_type": "markdown",
   "metadata": {},
   "source": [
    "## Training utilities"
   ]
  },
  {
   "cell_type": "markdown",
   "metadata": {},
   "source": [
    "### Training core"
   ]
  },
  {
   "cell_type": "code",
   "execution_count": 33,
   "metadata": {},
   "outputs": [],
   "source": [
    "# Loss function applied to a batch of inputs\n",
    "def loss_batch(model, loss_func, xb, yb, opt=None):\n",
    "    # Prediction on given batch\n",
    "    xb_out = model(xb.float())\n",
    "    \n",
    "    # Binary cross entropy\n",
    "    loss = loss_func(xb_out, yb.float())\n",
    "\n",
    "    # Count correct predictions\n",
    "    np_xb_out = xb_out.detach().cpu().numpy().round().astype(int)\n",
    "    np_yb = yb.detach().cpu().numpy().round().astype(int)\n",
    "    correct = np.sum(np_xb_out == np_yb)\n",
    "\n",
    "    # Skip backpropagation if no optimizer\n",
    "    if opt is not None:\n",
    "        loss.backward()\n",
    "        opt.step()\n",
    "        opt.zero_grad()\n",
    "\n",
    "    # Loss statistics on batch\n",
    "    return loss.item(), len(xb), correct"
   ]
  },
  {
   "cell_type": "markdown",
   "metadata": {},
   "source": [
    "### Batch training"
   ]
  },
  {
   "cell_type": "code",
   "execution_count": 35,
   "metadata": {},
   "outputs": [],
   "source": [
    "# Training over train dataset batches within a epoch\n",
    "def train_epoch(model, train_dl, loss_func, device, opt):\n",
    "    # Set model to training mode\n",
    "    model.train()\n",
    "\n",
    "    # Train losses, batch sizes, correct predictions per batch\n",
    "    tl, ns, cp = [], [], []\n",
    "    \n",
    "    # loop over train batches\n",
    "    for xb, yb in train_dl:\n",
    "        # Put train on GPU\n",
    "        xb, yb = xb.to(device),yb.to(device)\n",
    "        \n",
    "        # Provide optimizer to allow backpropagation\n",
    "        t, n, c = loss_batch(model, loss_func, xb, yb, opt=opt)\n",
    "        \n",
    "        # Collect train loss, batch sizes, correct predictions per batch\n",
    "        tl.append(t); ns.append(n); cp.append(c)\n",
    "\n",
    "    # Convert to numpy array\n",
    "    tl, ns, cp = np.array(tl), np.array(ns), np.array(cp)\n",
    "\n",
    "    # Losses weighed average over batches\n",
    "    train_loss = np.average(tl, weights=ns)\n",
    "\n",
    "    # Accuracy arithmetic average over batches\n",
    "    train_acc = np.sum(cp) / np.sum(ns)\n",
    "\n",
    "    # Train statistics on epoch\n",
    "    return train_loss, train_acc"
   ]
  },
  {
   "cell_type": "code",
   "execution_count": 36,
   "metadata": {},
   "outputs": [],
   "source": [
    "# Validation over validation dataset batches within a epoch\n",
    "def val_epoch(model, val_dl, loss_func, device):\n",
    "    # Set model to evaluation mode\n",
    "    model.eval()\n",
    "\n",
    "    # Disable gradient calculation\n",
    "    with torch.no_grad():\n",
    "        # Validation losses, batch sizes, correct predictions per batch\n",
    "        vl, ns, cp = [], [], []\n",
    "        \n",
    "        # Loop over validation batches\n",
    "        for xb, yb in val_dl:\n",
    "            # Put validation on GPU\n",
    "            xb, yb = xb.to(device),yb.to(device)\n",
    "\n",
    "            # Not provide optimizer to deny backpropagation\n",
    "            v, n, c = loss_batch(model, loss_func, xb, yb)\n",
    "\n",
    "            # Collect validation loss, batch sizes, correct predictions per batch\n",
    "            vl.append(v); ns.append(n); cp.append(c)\n",
    "\n",
    "    # Convert to numpy array\n",
    "    vl, ns, cp = np.array(vl), np.array(ns), np.array(cp)\n",
    "\n",
    "    # Losses weighed average over batches\n",
    "    val_loss = np.average(vl, weights=ns)\n",
    "\n",
    "    # Accuracy arithmetic average over batches\n",
    "    val_acc = np.sum(cp) / np.sum(ns)\n",
    "\n",
    "    # Validation statistics on epoch\n",
    "    return val_loss, val_acc"
   ]
  },
  {
   "cell_type": "markdown",
   "metadata": {},
   "source": [
    "### Learning rate update"
   ]
  },
  {
   "cell_type": "code",
   "execution_count": 38,
   "metadata": {},
   "outputs": [],
   "source": [
    "# Rule for updating learning rate\n",
    "def lr_update_rule(opt):\n",
    "    for param in opt.param_groups:\n",
    "        # Halves optimizer learning rate\n",
    "        param['lr'] = param['lr'] * 0.5"
   ]
  },
  {
   "cell_type": "markdown",
   "metadata": {},
   "source": [
    "### Epoch training"
   ]
  },
  {
   "cell_type": "code",
   "execution_count": 40,
   "metadata": {},
   "outputs": [],
   "source": [
    "# Fit model on train dataset and evaluate model on validation dataset\n",
    "def fit(epochs, model, loss_func, opt, train_dl, val_dl, device, lr_update):\n",
    "    # Losses on train and validation dataset\n",
    "    train_losses, val_losses = [], []\n",
    "\n",
    "    # Accuracies on train and validation dataset\n",
    "    train_accuracies, val_accuracies = [], []\n",
    "    \n",
    "    # Loop over epochs\n",
    "    for epoch in range(epochs):\n",
    "        # Perform training within epoch\n",
    "        train_loss, train_acc = train_epoch(model,train_dl,loss_func,device,opt)\n",
    "        train_losses.append(train_loss); train_accuracies.append(train_acc)\n",
    "\n",
    "        # Perform validation within epoch\n",
    "        val_loss, val_acc = val_epoch(model,val_dl,loss_func,device)\n",
    "        val_losses.append(val_loss); val_accuracies.append(val_acc)\n",
    "        \n",
    "        # Learning rate update\n",
    "        if lr_update and (epoch+1)%5 == 0:\n",
    "            lr_update_rule(opt)\n",
    "\n",
    "        # Epoch statistics\n",
    "        print(f'Epoch {epoch+1}/{epochs}\\t| train loss: {train_loss} | val loss: {val_loss} | train accuracy: {train_acc} | val accuracy: {val_acc}')\n",
    "\n",
    "    # Train and validation statistics during model fit\n",
    "    return train_losses, val_losses, train_accuracies, val_accuracies"
   ]
  },
  {
   "cell_type": "markdown",
   "metadata": {},
   "source": [
    "## Training start"
   ]
  },
  {
   "cell_type": "code",
   "execution_count": 42,
   "metadata": {},
   "outputs": [],
   "source": [
    "# Run model train and validation with binary cross entropy and Adam optimizer\n",
    "def run_model(train_dl, val_dl, model, device, epochs, lr, lr_update, lossf=None, opt=None):\n",
    "    # Adam optimizer if no optimizer provided\n",
    "    if opt:\n",
    "        optimizer = opt\n",
    "    else:\n",
    "        optimizer = torch.optim.Adam(model.parameters(), lr=lr)\n",
    "    \n",
    "    # Binary cross entropy if no loss function provided\n",
    "    if lossf:\n",
    "        loss_func = lossf\n",
    "    else:\n",
    "        loss_func = torch.nn.BCELoss()\n",
    "    \n",
    "    # Run model fit\n",
    "    train_losses, val_losses, train_accuracies, val_accuracies = fit(epochs, model, loss_func, optimizer, train_dl, val_dl, device, lr_update)\n",
    "\n",
    "    # Model fit statistics\n",
    "    return train_losses, val_losses, train_accuracies, val_accuracies"
   ]
  },
  {
   "cell_type": "code",
   "execution_count": 43,
   "metadata": {},
   "outputs": [],
   "source": [
    "# Use GPU if available\n",
    "DEVICE = torch.device('cuda' if torch.cuda.is_available() else 'cpu')"
   ]
  },
  {
   "cell_type": "code",
   "execution_count": 44,
   "metadata": {},
   "outputs": [
    {
     "name": "stdout",
     "output_type": "stream",
     "text": [
      "FrequencyCNN(\n",
      "  (frequency_cnn): Sequential(\n",
      "    (0): Conv1d(5, 1000, kernel_size=(8,), stride=(1,))\n",
      "    (1): ReLU(inplace=True)\n",
      "    (2): AvgPool1d(kernel_size=(293,), stride=(1,), padding=(0,))\n",
      "    (3): Dropout(p=0.1, inplace=False)\n",
      "    (4): Flatten(start_dim=1, end_dim=-1)\n",
      "    (5): Linear(in_features=1000, out_features=1000, bias=True)\n",
      "    (6): ReLU(inplace=True)\n",
      "    (7): Dropout(p=0.1, inplace=False)\n",
      "    (8): Linear(in_features=1000, out_features=1, bias=True)\n",
      "    (9): Sigmoid()\n",
      "  )\n",
      ")\n"
     ]
    }
   ],
   "source": [
    "# Create frequency branch model and redirect to device\n",
    "model_cnn = FrequencyCNN(sequence_length, sequence_channels, kernel_1d, linear_size, dropout[0])\n",
    "model_cnn.to(DEVICE)\n",
    "\n",
    "# Model structure\n",
    "print(str(model_cnn))"
   ]
  },
  {
   "cell_type": "code",
   "execution_count": 45,
   "metadata": {},
   "outputs": [
    {
     "name": "stdout",
     "output_type": "stream",
     "text": [
      "Epoch 1/10\t| train loss: 0.09967733972486009 | val loss: 0.0934909560992615 | train accuracy: 0.9787438789102683 | val accuracy: 0.9797711947874839\n",
      "Epoch 2/10\t| train loss: 0.09021489896349011 | val loss: 0.08881024482506668 | train accuracy: 0.9792226630828961 | val accuracy: 0.9797711947874839\n",
      "Epoch 3/10\t| train loss: 0.08584925099252232 | val loss: 0.08632825343448454 | train accuracy: 0.9792226630828961 | val accuracy: 0.9797711947874839\n",
      "Epoch 4/10\t| train loss: 0.08307741509617941 | val loss: 0.08172207055677608 | train accuracy: 0.9792226630828961 | val accuracy: 0.9797711947874839\n",
      "Epoch 5/10\t| train loss: 0.08051450766114285 | val loss: 0.08140491121616862 | train accuracy: 0.9792226630828961 | val accuracy: 0.9797711947874839\n",
      "Epoch 6/10\t| train loss: 0.07780377871873546 | val loss: 0.07920870021467105 | train accuracy: 0.979260586581718 | val accuracy: 0.9799606030759906\n",
      "Epoch 7/10\t| train loss: 0.07545121606403873 | val loss: 0.07833774734469935 | train accuracy: 0.9795118297614138 | val accuracy: 0.9802257746799\n",
      "Epoch 8/10\t| train loss: 0.07310076361700325 | val loss: 0.07712475575788363 | train accuracy: 0.9798436603761063 | val accuracy: 0.9808697628608228\n",
      "Epoch 9/10\t| train loss: 0.07107337061990103 | val loss: 0.07613188269524057 | train accuracy: 0.9802371166763846 | val accuracy: 0.9815516326994469\n",
      "Epoch 10/10\t| train loss: 0.06935604872371295 | val loss: 0.07612275738215182 | train accuracy: 0.9807727860972454 | val accuracy: 0.9822335025380711\n"
     ]
    }
   ],
   "source": [
    "# Check if exist trained model\n",
    "if not os.path.isfile('./frequency_branch.pth'):\n",
    "    # Run model training with hyperparameter\n",
    "    cnn_train_losses, cnn_val_losses, cnn_train_accuracies, cnn_val_accuracies = run_model(train_dl, val_dl, model_cnn, DEVICE, epochs, learning_rate[1], learning_rate_update[1])\n",
    "    # Save trained model\n",
    "    torch.save(model_cnn.state_dict(), './frequency_branch.pth')\n",
    "else:\n",
    "    # Load trained model\n",
    "    model_cnn.load_state_dict(torch.load('./frequency_branch.pth'))"
   ]
  },
  {
   "cell_type": "markdown",
   "metadata": {},
   "source": [
    "# Model performance"
   ]
  },
  {
   "cell_type": "markdown",
   "metadata": {},
   "source": [
    "## Prediction utilities"
   ]
  },
  {
   "cell_type": "code",
   "execution_count": 48,
   "metadata": {},
   "outputs": [],
   "source": [
    "# Get batch model predictions\n",
    "def predict_batch(model, xb, yb):\n",
    "    # Model predictions for input\n",
    "    xb_out = model(xb.float())\n",
    "    \n",
    "    # Numpy label probabilities, predicted labels and true labels\n",
    "    np_xb_prob = xb_out.detach().cpu().numpy()\n",
    "    np_xb_out = xb_out.detach().cpu().numpy().round().astype(int)\n",
    "    np_yb = yb.detach().cpu().numpy().round().astype(int)\n",
    "\n",
    "    # Predicted labels and true labels on batch\n",
    "    return np_xb_prob, np_xb_out, np_yb"
   ]
  },
  {
   "cell_type": "code",
   "execution_count": 49,
   "metadata": {},
   "outputs": [],
   "source": [
    "# Calculate predictions\n",
    "def predict(model, dl, device):\n",
    "    # Set model to evaluation mode\n",
    "    model.eval()\n",
    "    \n",
    "    # Disable gradient calculation\n",
    "    with torch.no_grad():\n",
    "        # Predicted labels, true labels\n",
    "        lp, pl, tl = [], [], []\n",
    "        \n",
    "        # Loop over batches\n",
    "        for xb, yb in dl:\n",
    "            # Put validation on GPU\n",
    "            xb, yb = xb.to(device),yb.to(device)\n",
    "\n",
    "            # Not provide optimizer to deny backpropagation\n",
    "            l, p, t = predict_batch(model, xb, yb)\n",
    "\n",
    "            # Label probabilities, predicted labels, true labels per batch\n",
    "            lp.extend(l), pl.extend(p); tl.extend(t)\n",
    "\n",
    "    # Predicted labels and true labels on dataset\n",
    "    return lp, pl, tl"
   ]
  },
  {
   "cell_type": "markdown",
   "metadata": {},
   "source": [
    "## Learning curve"
   ]
  },
  {
   "cell_type": "code",
   "execution_count": 51,
   "metadata": {},
   "outputs": [],
   "source": [
    "# Module for plots\n",
    "import matplotlib.pyplot as plt"
   ]
  },
  {
   "cell_type": "code",
   "execution_count": 52,
   "metadata": {},
   "outputs": [],
   "source": [
    "# Plot train and val loss over epochs\n",
    "def loss_plot(data_label_list, loss_type='Binary Cross Entropy Loss'):\n",
    "    # Plot loss by epoch for each train/validation loss trajectory\n",
    "    for i, (train_data, val_data, label) in enumerate(data_label_list):    \n",
    "        plt.plot(train_data, linestyle='--', color=f'C{i}', label=f'{label} Train')\n",
    "        plt.plot(val_data, color=f'C{i}', label=f'{label} Validation', linewidth=3.0)\n",
    "\n",
    "    # Plot features\n",
    "    plt.legend()\n",
    "    plt.title('Learning Curve')\n",
    "    plt.ylabel(loss_type)\n",
    "    plt.xlabel('Epoch')\n",
    "    plt.legend(loc='upper right')\n",
    "    plt.show()"
   ]
  },
  {
   "cell_type": "code",
   "execution_count": 53,
   "metadata": {},
   "outputs": [
    {
     "data": {
      "image/png": "[encoded data removed]",
      "text/plain": [
       "<Figure size 640x480 with 1 Axes>"
      ]
     },
     "metadata": {},
     "output_type": "display_data"
    }
   ],
   "source": [
    "# Plot learning curve\n",
    "cnn_data_label = (cnn_train_losses, cnn_val_losses, 'CNN')\n",
    "loss_plot([cnn_data_label])"
   ]
  },
  {
   "cell_type": "markdown",
   "metadata": {},
   "source": [
    "## Accuracy curve"
   ]
  },
  {
   "cell_type": "code",
   "execution_count": 55,
   "metadata": {},
   "outputs": [],
   "source": [
    "# Plot train and validation accuracy over epochs\n",
    "def accuracy_plot(data_label_list, accuracy_type='Accuracy'):\n",
    "    # Plot accuracy by epoch for each train/validation accuracy trajectory\n",
    "    for i,(train_data, val_data,label) in enumerate(data_label_list):    \n",
    "        plt.plot(train_data, linestyle='--',color=f'C{i}', label=f'{label} Train')\n",
    "        plt.plot(val_data, color=f'C{i}', label=f'{label} Validation', linewidth=3.0)\n",
    "\n",
    "    # Plot features\n",
    "    plt.legend()\n",
    "    plt.title('Accuracy Curve')\n",
    "    plt.ylabel(accuracy_type)\n",
    "    plt.xlabel('Epoch')\n",
    "    plt.legend(loc='upper right')\n",
    "    plt.show()"
   ]
  },
  {
   "cell_type": "code",
   "execution_count": 56,
   "metadata": {},
   "outputs": [
    {
     "data": {
      "image/png": "[encoded data removed]",
      "text/plain": [
       "<Figure size 640x480 with 1 Axes>"
      ]
     },
     "metadata": {},
     "output_type": "display_data"
    }
   ],
   "source": [
    "# Plot accuracy curve\n",
    "cnn_data_label = (cnn_train_accuracies, cnn_val_accuracies, 'CNN')\n",
    "accuracy_plot([cnn_data_label])"
   ]
  },
  {
   "cell_type": "markdown",
   "metadata": {},
   "source": [
    "## Model accuracy"
   ]
  },
  {
   "cell_type": "code",
   "execution_count": 58,
   "metadata": {},
   "outputs": [],
   "source": [
    "def compute_accuracy(pred_labels, true_labels):\n",
    "    # Flatten lists of arrays\n",
    "    pred_flat = np.concatenate(pred_labels)\n",
    "    true_flat = np.concatenate(true_labels)\n",
    "\n",
    "    # Calculate equality\n",
    "    tot_sum = np.sum(pred_flat == true_flat)\n",
    "    tot_len = len(true_flat)\n",
    "\n",
    "    # Calculate accuracy\n",
    "    accuracy = tot_sum / tot_len\n",
    "\n",
    "    # Model accuracy\n",
    "    return accuracy"
   ]
  },
  {
   "cell_type": "code",
   "execution_count": 59,
   "metadata": {},
   "outputs": [
    {
     "name": "stdout",
     "output_type": "stream",
     "text": [
      "Train accuracy: 0.9820527041824879\n"
     ]
    }
   ],
   "source": [
    "# Accuracy over train set\n",
    "train_prob, train_pred, train_true = predict(model_cnn, train_dl, DEVICE)\n",
    "train_accuracy = compute_accuracy(train_pred, train_true)\n",
    "\n",
    "# Print train accuracy\n",
    "print(f'Train accuracy: {train_accuracy}')"
   ]
  },
  {
   "cell_type": "code",
   "execution_count": 60,
   "metadata": {},
   "outputs": [
    {
     "name": "stdout",
     "output_type": "stream",
     "text": [
      "Validation accuracy: 0.9822335025380711\n"
     ]
    }
   ],
   "source": [
    "# Accuracy over validation set\n",
    "val_prob, val_pred, val_true = predict(model_cnn, val_dl, DEVICE)\n",
    "val_accuracy = compute_accuracy(val_pred, val_true)\n",
    "\n",
    "# Print validation accuracy\n",
    "print(f'Validation accuracy: {val_accuracy}')"
   ]
  },
  {
   "cell_type": "code",
   "execution_count": 61,
   "metadata": {},
   "outputs": [
    {
     "name": "stdout",
     "output_type": "stream",
     "text": [
      "Test accuracy: 0.9815158516722852\n"
     ]
    }
   ],
   "source": [
    "# Accuracy over test set\n",
    "test_prob, test_pred, test_true = predict(model_cnn, test_dl, DEVICE)\n",
    "test_accuracy = compute_accuracy(test_pred, test_true)\n",
    "\n",
    "# Print test accuracy\n",
    "print(f'Test accuracy: {test_accuracy}')"
   ]
  },
  {
   "cell_type": "markdown",
   "metadata": {},
   "source": [
    "## Confusion matrix"
   ]
  },
  {
   "cell_type": "markdown",
   "metadata": {},
   "source": [
    "### Train dataset"
   ]
  },
  {
   "cell_type": "code",
   "execution_count": 64,
   "metadata": {},
   "outputs": [],
   "source": [
    "# Module for confusion matrix\n",
    "from sklearn.metrics import confusion_matrix, ConfusionMatrixDisplay, classification_report"
   ]
  },
  {
   "cell_type": "code",
   "execution_count": 65,
   "metadata": {},
   "outputs": [
    {
     "name": "stdout",
     "output_type": "stream",
     "text": [
      "              precision    recall  f1-score   support\n",
      "\n",
      "           0       0.98      1.00      0.99    206568\n",
      "           1       0.86      0.16      0.27      4383\n",
      "\n",
      "    accuracy                           0.98    210951\n",
      "   macro avg       0.92      0.58      0.63    210951\n",
      "weighted avg       0.98      0.98      0.98    210951\n",
      "\n"
     ]
    },
    {
     "data": {
      "image/png": "[encoded data removed]",
      "text/plain": [
       "<Figure size 640x480 with 2 Axes>"
      ]
     },
     "metadata": {},
     "output_type": "display_data"
    }
   ],
   "source": [
    "# Plot confusion matrix on train dataset\n",
    "print(classification_report(train_true, train_pred, zero_division=0))\n",
    "cm = confusion_matrix(train_true, train_pred, labels=[0, 1])\n",
    "disp = ConfusionMatrixDisplay(confusion_matrix=cm, display_labels=[0, 1])\n",
    "disp.plot()\n",
    "plt.show()"
   ]
  },
  {
   "cell_type": "markdown",
   "metadata": {},
   "source": [
    "### Validation dataset"
   ]
  },
  {
   "cell_type": "code",
   "execution_count": 67,
   "metadata": {},
   "outputs": [
    {
     "name": "stdout",
     "output_type": "stream",
     "text": [
      "              precision    recall  f1-score   support\n",
      "\n",
      "           0       0.98      1.00      0.99     25864\n",
      "           1       0.87      0.14      0.25       534\n",
      "\n",
      "    accuracy                           0.98     26398\n",
      "   macro avg       0.92      0.57      0.62     26398\n",
      "weighted avg       0.98      0.98      0.98     26398\n",
      "\n"
     ]
    },
    {
     "data": {
      "image/png": "[encoded data removed]",
      "text/plain": [
       "<Figure size 640x480 with 2 Axes>"
      ]
     },
     "metadata": {},
     "output_type": "display_data"
    }
   ],
   "source": [
    "# Plot confusion matrix on validation dataset\n",
    "print(classification_report(val_true, val_pred, zero_division=0))\n",
    "cm = confusion_matrix(val_true, val_pred, labels=[0, 1])\n",
    "disp = ConfusionMatrixDisplay(confusion_matrix=cm, display_labels=[0, 1])\n",
    "disp.plot()\n",
    "plt.show()"
   ]
  },
  {
   "cell_type": "markdown",
   "metadata": {},
   "source": [
    "### Test dataset"
   ]
  },
  {
   "cell_type": "code",
   "execution_count": 69,
   "metadata": {},
   "outputs": [
    {
     "name": "stdout",
     "output_type": "stream",
     "text": [
      "              precision    recall  f1-score   support\n",
      "\n",
      "           0       0.98      1.00      0.99     25852\n",
      "           1       0.78      0.15      0.26       549\n",
      "\n",
      "    accuracy                           0.98     26401\n",
      "   macro avg       0.88      0.58      0.62     26401\n",
      "weighted avg       0.98      0.98      0.98     26401\n",
      "\n"
     ]
    },
    {
     "data": {
      "image/png": "[encoded data removed]",
      "text/plain": [
       "<Figure size 640x480 with 2 Axes>"
      ]
     },
     "metadata": {},
     "output_type": "display_data"
    }
   ],
   "source": [
    "# Plot confusion matrix on test dataset\n",
    "print(classification_report(test_true, test_pred, zero_division=0))\n",
    "cm = confusion_matrix(test_true, test_pred, labels=[0, 1])\n",
    "disp = ConfusionMatrixDisplay(confusion_matrix=cm, display_labels=[0, 1])\n",
    "disp.plot()\n",
    "plt.show()"
   ]
  },
  {
   "cell_type": "markdown",
   "metadata": {},
   "source": [
    "## True and predicted labels"
   ]
  },
  {
   "cell_type": "code",
   "execution_count": 71,
   "metadata": {},
   "outputs": [],
   "source": [
    "# Count labels per classes\n",
    "def count_labels(labels):\n",
    "    labels_count = {0: 0, 1: 0}\n",
    "    for v in labels:\n",
    "        if v[0] == 0:\n",
    "            labels_count[0] = labels_count[0] + 1\n",
    "        elif v[0] == 1:\n",
    "            labels_count[1] = labels_count[1] + 1\n",
    "\n",
    "    # Count per class\n",
    "    return labels_count"
   ]
  },
  {
   "cell_type": "markdown",
   "metadata": {},
   "source": [
    "### Predicted labels"
   ]
  },
  {
   "cell_type": "code",
   "execution_count": 73,
   "metadata": {},
   "outputs": [
    {
     "name": "stdout",
     "output_type": "stream",
     "text": [
      "Train predict 0: 210128\n",
      "Train predict 1: 823\n"
     ]
    }
   ],
   "source": [
    "# Count predicted labels over train set\n",
    "train_pred_count = count_labels(train_pred)\n",
    "print(f'Train predict 0: {train_pred_count[0]}')\n",
    "print(f'Train predict 1: {train_pred_count[1]}')"
   ]
  },
  {
   "cell_type": "code",
   "execution_count": 74,
   "metadata": {},
   "outputs": [
    {
     "name": "stdout",
     "output_type": "stream",
     "text": [
      "Validation predict 0: 26309\n",
      "Validation predict 1: 89\n"
     ]
    }
   ],
   "source": [
    "# Count predicted labels over validation set\n",
    "val_pred_count = count_labels(val_pred)\n",
    "print(f'Validation predict 0: {val_pred_count[0]}')\n",
    "print(f'Validation predict 1: {val_pred_count[1]}')"
   ]
  },
  {
   "cell_type": "code",
   "execution_count": 75,
   "metadata": {},
   "outputs": [
    {
     "name": "stdout",
     "output_type": "stream",
     "text": [
      "Test predict 0: 26292\n",
      "Test predict 1: 109\n"
     ]
    }
   ],
   "source": [
    "# Count predicted labels over test set\n",
    "test_pred_count = count_labels(test_pred)\n",
    "print(f'Test predict 0: {test_pred_count[0]}')\n",
    "print(f'Test predict 1: {test_pred_count[1]}')"
   ]
  },
  {
   "cell_type": "markdown",
   "metadata": {},
   "source": [
    "### True labels"
   ]
  },
  {
   "cell_type": "code",
   "execution_count": 77,
   "metadata": {},
   "outputs": [
    {
     "name": "stdout",
     "output_type": "stream",
     "text": [
      "Train true 0: 206568\n",
      "Train true 1: 4383\n"
     ]
    }
   ],
   "source": [
    "# Count true labels over train set\n",
    "train_true_count = count_labels(train_true)\n",
    "print(f'Train true 0: {train_true_count[0]}')\n",
    "print(f'Train true 1: {train_true_count[1]}')"
   ]
  },
  {
   "cell_type": "code",
   "execution_count": 78,
   "metadata": {},
   "outputs": [
    {
     "name": "stdout",
     "output_type": "stream",
     "text": [
      "Validation true 0: 25864\n",
      "Validation true 1: 534\n"
     ]
    }
   ],
   "source": [
    "# Count true labels over validation set\n",
    "val_true_count = count_labels(val_true)\n",
    "print(f'Validation true 0: {val_true_count[0]}')\n",
    "print(f'Validation true 1: {val_true_count[1]}')"
   ]
  },
  {
   "cell_type": "code",
   "execution_count": 79,
   "metadata": {},
   "outputs": [
    {
     "name": "stdout",
     "output_type": "stream",
     "text": [
      "Test true 0: 25852\n",
      "Test true 1: 549\n"
     ]
    }
   ],
   "source": [
    "# Count true labels over test set\n",
    "test_true_count = count_labels(test_true)\n",
    "print(f'Test true 0: {test_true_count[0]}')\n",
    "print(f'Test true 1: {test_true_count[1]}')"
   ]
  },
  {
   "cell_type": "markdown",
   "metadata": {},
   "source": [
    "## ROC curve"
   ]
  },
  {
   "cell_type": "code",
   "execution_count": 81,
   "metadata": {},
   "outputs": [],
   "source": [
    "# Module for ROC curve\n",
    "from sklearn.metrics import roc_curve, auc, roc_auc_score"
   ]
  },
  {
   "cell_type": "code",
   "execution_count": 82,
   "metadata": {},
   "outputs": [
    {
     "data": {
      "image/png": "[encoded data removed]",
      "text/plain": [
       "<Figure size 640x480 with 1 Axes>"
      ]
     },
     "metadata": {},
     "output_type": "display_data"
    }
   ],
   "source": [
    "# ROC curve over test dataset\n",
    "fpr, tpr, thresholds = roc_curve(test_true, test_prob)\n",
    "\n",
    "# Calculate AUROC\n",
    "roc_auc = auc(fpr, tpr)\n",
    "\n",
    "# Plot ROC curve and AUROC\n",
    "plt.figure()\n",
    "plt.plot(fpr, tpr, color='darkorange', lw=2, label=f'ROC curve (AUROC = {roc_auc:.2f})')\n",
    "plt.plot([0, 1], [0, 1], color='navy', linestyle='--')\n",
    "plt.xlim([0.0, 1.0])\n",
    "plt.ylim([0.0, 1.05])\n",
    "plt.xlabel('False Positive Rate')\n",
    "plt.ylabel('True Positive Rate')\n",
    "plt.title('ROC Curve')\n",
    "plt.legend(loc='lower right')\n",
    "plt.show()"
   ]
  },
  {
   "cell_type": "markdown",
   "metadata": {},
   "source": [
    "# Model validation"
   ]
  },
  {
   "cell_type": "code",
   "execution_count": 84,
   "metadata": {},
   "outputs": [
    {
     "name": "stdout",
     "output_type": "stream",
     "text": [
      "frequency_branch_do_1_lr_01_up.pth does not exist.\n",
      "Epoch 1/10\t| train loss: 0.09728613832333892 | val loss: 0.09364084480947749 | train accuracy: 0.9792179226455433 | val accuracy: 0.9797711947874839\n",
      "Epoch 2/10\t| train loss: 0.09000270369217321 | val loss: 0.08985343002049893 | train accuracy: 0.9792226630828961 | val accuracy: 0.9797711947874839\n",
      "Epoch 3/10\t| train loss: 0.08622324105832449 | val loss: 0.09003472856935095 | train accuracy: 0.9792179226455433 | val accuracy: 0.9797711947874839\n",
      "Epoch 4/10\t| train loss: 0.08304527343488831 | val loss: 0.0839765390017268 | train accuracy: 0.9792179226455433 | val accuracy: 0.9797711947874839\n",
      "Epoch 5/10\t| train loss: 0.0804939243749516 | val loss: 0.08090532825418233 | train accuracy: 0.9792179226455433 | val accuracy: 0.9797711947874839\n",
      "Epoch 6/10\t| train loss: 0.07588688240628468 | val loss: 0.07562290228656615 | train accuracy: 0.9792084417708378 | val accuracy: 0.9797711947874839\n",
      "Epoch 7/10\t| train loss: 0.07383705746305762 | val loss: 0.07445864218006834 | train accuracy: 0.9793032505178928 | val accuracy: 0.9798090764451852\n",
      "Epoch 8/10\t| train loss: 0.07211740842657843 | val loss: 0.07329717303190672 | train accuracy: 0.9795544936975885 | val accuracy: 0.979998484733692\n",
      "Epoch 9/10\t| train loss: 0.07110340176180532 | val loss: 0.07227862392506262 | train accuracy: 0.9798294390640481 | val accuracy: 0.9802257746799\n",
      "Epoch 10/10\t| train loss: 0.06997873490036365 | val loss: 0.07160450789660579 | train accuracy: 0.9801612696787405 | val accuracy: 0.9805288279415107\n",
      "\n",
      "frequency_branch_do_1_lr_01_noup.pth does not exist.\n",
      "Epoch 1/10\t| train loss: 0.09736300956619667 | val loss: 0.09535579637841154 | train accuracy: 0.9790093434020223 | val accuracy: 0.9797711947874839\n",
      "Epoch 2/10\t| train loss: 0.08981146709290853 | val loss: 0.09068238556371493 | train accuracy: 0.9792226630828961 | val accuracy: 0.9797711947874839\n",
      "Epoch 3/10\t| train loss: 0.08612826112992344 | val loss: 0.089158266895939 | train accuracy: 0.9792226630828961 | val accuracy: 0.9797711947874839\n",
      "Epoch 4/10\t| train loss: 0.08281880101162767 | val loss: 0.08502580335230951 | train accuracy: 0.9792179226455433 | val accuracy: 0.9797711947874839\n",
      "Epoch 5/10\t| train loss: 0.08026872429136517 | val loss: 0.08249911531682935 | train accuracy: 0.9792226630828961 | val accuracy: 0.9797711947874839\n",
      "Epoch 6/10\t| train loss: 0.07771334439256403 | val loss: 0.07861932560209366 | train accuracy: 0.9792321439576015 | val accuracy: 0.9797711947874839\n",
      "Epoch 7/10\t| train loss: 0.07589938750526845 | val loss: 0.07704894943243942 | train accuracy: 0.9792558461443652 | val accuracy: 0.9799606030759906\n",
      "Epoch 8/10\t| train loss: 0.07406420176837246 | val loss: 0.07957736941448047 | train accuracy: 0.9794502040758281 | val accuracy: 0.9804151829684067\n",
      "Epoch 9/10\t| train loss: 0.07227853043369495 | val loss: 0.07886678720809956 | train accuracy: 0.9797772942531678 | val accuracy: 0.9807939995454201\n",
      "Epoch 10/10\t| train loss: 0.0712401893809063 | val loss: 0.07657909602464753 | train accuracy: 0.9799716521846306 | val accuracy: 0.9808697628608228\n",
      "\n",
      "frequency_branch_do_1_lr_001_up.pth does not exist.\n",
      "Epoch 1/10\t| train loss: 0.09965015119111152 | val loss: 0.09346946487723268 | train accuracy: 0.97872965759821 | val accuracy: 0.9797711947874839\n",
      "Epoch 2/10\t| train loss: 0.0900866457158795 | val loss: 0.08888059826664436 | train accuracy: 0.9792226630828961 | val accuracy: 0.9797711947874839\n",
      "Epoch 3/10\t| train loss: 0.08562164588356003 | val loss: 0.08525912355369389 | train accuracy: 0.9792226630828961 | val accuracy: 0.9797711947874839\n",
      "Epoch 4/10\t| train loss: 0.08284776781716188 | val loss: 0.08221629069948302 | train accuracy: 0.9792226630828961 | val accuracy: 0.9797711947874839\n",
      "Epoch 5/10\t| train loss: 0.08052413375345685 | val loss: 0.08152427172360412 | train accuracy: 0.9792226630828961 | val accuracy: 0.9797711947874839\n",
      "Epoch 6/10\t| train loss: 0.07683187216871486 | val loss: 0.07565635609396687 | train accuracy: 0.9792179226455433 | val accuracy: 0.9798848397605879\n",
      "Epoch 7/10\t| train loss: 0.07523569739649094 | val loss: 0.07445123696791325 | train accuracy: 0.9792890292058345 | val accuracy: 0.979998484733692\n",
      "Epoch 8/10\t| train loss: 0.0736235198130514 | val loss: 0.07365965208329255 | train accuracy: 0.9795118297614138 | val accuracy: 0.9803773013107053\n",
      "Epoch 9/10\t| train loss: 0.07218178924029174 | val loss: 0.07228708659653 | train accuracy: 0.979753592066404 | val accuracy: 0.9805667095992121\n",
      "Epoch 10/10\t| train loss: 0.07058852740728715 | val loss: 0.07248148630057846 | train accuracy: 0.9800901631184493 | val accuracy: 0.9811728161224336\n",
      "\n",
      "frequency_branch_do_1_lr_001_noup.pth does not exist.\n",
      "Epoch 1/10\t| train loss: 0.09967556914946653 | val loss: 0.09353466744904618 | train accuracy: 0.978634848851155 | val accuracy: 0.9797711947874839\n",
      "Epoch 2/10\t| train loss: 0.09030377366544684 | val loss: 0.08939161100054033 | train accuracy: 0.9792226630828961 | val accuracy: 0.9797711947874839\n",
      "Epoch 3/10\t| train loss: 0.08568649421041141 | val loss: 0.08529558160041478 | train accuracy: 0.9792226630828961 | val accuracy: 0.9797711947874839\n",
      "Epoch 4/10\t| train loss: 0.08295779322425147 | val loss: 0.0832375266787992 | train accuracy: 0.9792226630828961 | val accuracy: 0.9797711947874839\n",
      "Epoch 5/10\t| train loss: 0.08022185634245795 | val loss: 0.08224893349193697 | train accuracy: 0.9792226630828961 | val accuracy: 0.9797711947874839\n",
      "Epoch 6/10\t| train loss: 0.07785190601619896 | val loss: 0.08151515412851869 | train accuracy: 0.9792653270190708 | val accuracy: 0.979998484733692\n",
      "Epoch 7/10\t| train loss: 0.07515347254488063 | val loss: 0.08154178926957874 | train accuracy: 0.9795592341349413 | val accuracy: 0.9803773013107053\n",
      "Epoch 8/10\t| train loss: 0.07297230481153266 | val loss: 0.07977918631672584 | train accuracy: 0.9799100264990448 | val accuracy: 0.9810970528070309\n",
      "Epoch 9/10\t| train loss: 0.07092649159411973 | val loss: 0.07716459007564706 | train accuracy: 0.9804314746078473 | val accuracy: 0.9818168043033563\n",
      "Epoch 10/10\t| train loss: 0.06892497148007795 | val loss: 0.07736516279020321 | train accuracy: 0.9809197396551805 | val accuracy: 0.9824986741419804\n",
      "\n",
      "frequency_branch_do_1_lr_0001_up.pth does not exist.\n",
      "Epoch 1/10\t| train loss: 0.10463816834010282 | val loss: 0.09997335930617166 | train accuracy: 0.9792226630828961 | val accuracy: 0.9797711947874839\n",
      "Epoch 2/10\t| train loss: 0.10018487368295116 | val loss: 0.09858842999876534 | train accuracy: 0.9792226630828961 | val accuracy: 0.9797711947874839\n",
      "Epoch 3/10\t| train loss: 0.09818584483322546 | val loss: 0.09560642028990203 | train accuracy: 0.9792226630828961 | val accuracy: 0.9797711947874839\n",
      "Epoch 4/10\t| train loss: 0.09553459827891787 | val loss: 0.09206195391307583 | train accuracy: 0.9792226630828961 | val accuracy: 0.9797711947874839\n",
      "Epoch 5/10\t| train loss: 0.09308690746338086 | val loss: 0.0894165509758955 | train accuracy: 0.9792226630828961 | val accuracy: 0.9797711947874839\n",
      "Epoch 6/10\t| train loss: 0.09104733483468351 | val loss: 0.08926903900427681 | train accuracy: 0.9792226630828961 | val accuracy: 0.9797711947874839\n",
      "Epoch 7/10\t| train loss: 0.09011272158340383 | val loss: 0.08839317260228063 | train accuracy: 0.9792226630828961 | val accuracy: 0.9797711947874839\n",
      "Epoch 8/10\t| train loss: 0.08924697187859035 | val loss: 0.0877767569588047 | train accuracy: 0.9792226630828961 | val accuracy: 0.9797711947874839\n",
      "Epoch 9/10\t| train loss: 0.0889811298751859 | val loss: 0.08723932227324568 | train accuracy: 0.9792226630828961 | val accuracy: 0.9797711947874839\n",
      "Epoch 10/10\t| train loss: 0.08845849642961726 | val loss: 0.08660472967255561 | train accuracy: 0.9792226630828961 | val accuracy: 0.9797711947874839\n",
      "\n",
      "frequency_branch_do_1_lr_0001_noup.pth does not exist.\n",
      "Epoch 1/10\t| train loss: 0.10510363770687396 | val loss: 0.09999462212506108 | train accuracy: 0.9790994117117245 | val accuracy: 0.9797711947874839\n",
      "Epoch 2/10\t| train loss: 0.10036573804308065 | val loss: 0.09896640068255813 | train accuracy: 0.9792226630828961 | val accuracy: 0.9797711947874839\n",
      "Epoch 3/10\t| train loss: 0.0987397271501008 | val loss: 0.09645821054303287 | train accuracy: 0.9792226630828961 | val accuracy: 0.9797711947874839\n",
      "Epoch 4/10\t| train loss: 0.09623009936589388 | val loss: 0.09313850359234366 | train accuracy: 0.9792226630828961 | val accuracy: 0.9797711947874839\n",
      "Epoch 5/10\t| train loss: 0.09393051270722201 | val loss: 0.09058296411799968 | train accuracy: 0.9792226630828961 | val accuracy: 0.9797711947874839\n",
      "Epoch 6/10\t| train loss: 0.09196934887753763 | val loss: 0.08871149223082485 | train accuracy: 0.9792226630828961 | val accuracy: 0.9797711947874839\n",
      "Epoch 7/10\t| train loss: 0.09036687234210279 | val loss: 0.08754725544993915 | train accuracy: 0.9792226630828961 | val accuracy: 0.9797711947874839\n",
      "Epoch 8/10\t| train loss: 0.08918988258447773 | val loss: 0.08661682292081246 | train accuracy: 0.9792226630828961 | val accuracy: 0.9797711947874839\n",
      "Epoch 9/10\t| train loss: 0.08835874838460213 | val loss: 0.08572758393110547 | train accuracy: 0.9792226630828961 | val accuracy: 0.9797711947874839\n",
      "Epoch 10/10\t| train loss: 0.08767572759866019 | val loss: 0.08562437207321275 | train accuracy: 0.9792226630828961 | val accuracy: 0.9797711947874839\n",
      "\n",
      "frequency_branch_do_5_lr_01_up.pth does not exist.\n",
      "Epoch 1/10\t| train loss: 0.10332496457202797 | val loss: 0.0964972778908664 | train accuracy: 0.978824466345265 | val accuracy: 0.9797711947874839\n",
      "Epoch 2/10\t| train loss: 0.09539327024364538 | val loss: 0.09216984199912216 | train accuracy: 0.9792226630828961 | val accuracy: 0.9797711947874839\n",
      "Epoch 3/10\t| train loss: 0.09251470695430442 | val loss: 0.08811789592927703 | train accuracy: 0.9792226630828961 | val accuracy: 0.9797711947874839\n",
      "Epoch 4/10\t| train loss: 0.09105604311506581 | val loss: 0.08651420520819654 | train accuracy: 0.9792226630828961 | val accuracy: 0.9797711947874839\n",
      "Epoch 5/10\t| train loss: 0.09018037931665146 | val loss: 0.08495533107399954 | train accuracy: 0.9792226630828961 | val accuracy: 0.9797711947874839\n",
      "Epoch 6/10\t| train loss: 0.08712955777954624 | val loss: 0.08393554635632693 | train accuracy: 0.9792226630828961 | val accuracy: 0.9797711947874839\n",
      "Epoch 7/10\t| train loss: 0.08660495265996988 | val loss: 0.08249782753175647 | train accuracy: 0.9792226630828961 | val accuracy: 0.9797711947874839\n",
      "Epoch 8/10\t| train loss: 0.08600262544801993 | val loss: 0.0822467895488444 | train accuracy: 0.9792226630828961 | val accuracy: 0.9797711947874839\n",
      "Epoch 9/10\t| train loss: 0.0851787514154346 | val loss: 0.08146850614895924 | train accuracy: 0.9792226630828961 | val accuracy: 0.9797711947874839\n",
      "Epoch 10/10\t| train loss: 0.08516101746775442 | val loss: 0.08102225141077771 | train accuracy: 0.9792131822081905 | val accuracy: 0.9797711947874839\n",
      "\n",
      "frequency_branch_do_5_lr_01_noup.pth does not exist.\n",
      "Epoch 1/10\t| train loss: 0.10348174348088572 | val loss: 0.09791684700895127 | train accuracy: 0.9789714199032002 | val accuracy: 0.9797711947874839\n",
      "Epoch 2/10\t| train loss: 0.09605164277708736 | val loss: 0.0897160086753127 | train accuracy: 0.9792226630828961 | val accuracy: 0.9797711947874839\n",
      "Epoch 3/10\t| train loss: 0.09277826712687842 | val loss: 0.08885110031605371 | train accuracy: 0.9792226630828961 | val accuracy: 0.9797711947874839\n",
      "Epoch 4/10\t| train loss: 0.09131365985223205 | val loss: 0.0869436285005721 | train accuracy: 0.9792226630828961 | val accuracy: 0.9797711947874839\n",
      "Epoch 5/10\t| train loss: 0.09027358893703268 | val loss: 0.08500462980999221 | train accuracy: 0.9792226630828961 | val accuracy: 0.9797711947874839\n",
      "Epoch 6/10\t| train loss: 0.08923859603750314 | val loss: 0.08438376480879585 | train accuracy: 0.9792179226455433 | val accuracy: 0.9797711947874839\n",
      "Epoch 7/10\t| train loss: 0.08882359204846181 | val loss: 0.08388694618127299 | train accuracy: 0.9792226630828961 | val accuracy: 0.9797711947874839\n",
      "Epoch 8/10\t| train loss: 0.08804502739383487 | val loss: 0.08263922037283135 | train accuracy: 0.9792226630828961 | val accuracy: 0.9797711947874839\n",
      "Epoch 9/10\t| train loss: 0.08743325713664758 | val loss: 0.0824535334547281 | train accuracy: 0.9792226630828961 | val accuracy: 0.9797711947874839\n",
      "Epoch 10/10\t| train loss: 0.08698536713410586 | val loss: 0.08235019611306074 | train accuracy: 0.9792179226455433 | val accuracy: 0.9797711947874839\n",
      "\n",
      "frequency_branch_do_5_lr_001_up.pth does not exist.\n",
      "Epoch 1/10\t| train loss: 0.10195264097421171 | val loss: 0.09310314471907002 | train accuracy: 0.9789714199032002 | val accuracy: 0.9797711947874839\n",
      "Epoch 2/10\t| train loss: 0.09493579809464515 | val loss: 0.08793070871224615 | train accuracy: 0.9792226630828961 | val accuracy: 0.9797711947874839\n",
      "Epoch 3/10\t| train loss: 0.09082043717881802 | val loss: 0.08531509310174182 | train accuracy: 0.9792226630828961 | val accuracy: 0.9797711947874839\n",
      "Epoch 4/10\t| train loss: 0.08812035081982621 | val loss: 0.08382060048060667 | train accuracy: 0.9792226630828961 | val accuracy: 0.9797711947874839\n",
      "Epoch 5/10\t| train loss: 0.08635874877683408 | val loss: 0.08257760357568075 | train accuracy: 0.9792226630828961 | val accuracy: 0.9797711947874839\n",
      "Epoch 6/10\t| train loss: 0.08378821533678756 | val loss: 0.08242196227862096 | train accuracy: 0.9792226630828961 | val accuracy: 0.9797711947874839\n",
      "Epoch 7/10\t| train loss: 0.08307909542116136 | val loss: 0.08158234299158917 | train accuracy: 0.9792226630828961 | val accuracy: 0.9797711947874839\n",
      "Epoch 8/10\t| train loss: 0.08180055326552695 | val loss: 0.08023172182915306 | train accuracy: 0.9792226630828961 | val accuracy: 0.9797711947874839\n",
      "Epoch 9/10\t| train loss: 0.08098666049792326 | val loss: 0.08013920090314731 | train accuracy: 0.9792226630828961 | val accuracy: 0.9797711947874839\n",
      "Epoch 10/10\t| train loss: 0.08034036132265705 | val loss: 0.0785973823457647 | train accuracy: 0.9792226630828961 | val accuracy: 0.9797711947874839\n",
      "\n",
      "frequency_branch_do_5_lr_001_noup.pth does not exist.\n",
      "Epoch 1/10\t| train loss: 0.10201405529133334 | val loss: 0.09276852952557013 | train accuracy: 0.9790757095249608 | val accuracy: 0.9797711947874839\n",
      "Epoch 2/10\t| train loss: 0.09480411445621421 | val loss: 0.08813528831774686 | train accuracy: 0.9792226630828961 | val accuracy: 0.9797711947874839\n",
      "Epoch 3/10\t| train loss: 0.09116708456514702 | val loss: 0.08600431384439856 | train accuracy: 0.9792226630828961 | val accuracy: 0.9797711947874839\n",
      "Epoch 4/10\t| train loss: 0.0885306381346219 | val loss: 0.08394673794673937 | train accuracy: 0.9792226630828961 | val accuracy: 0.9797711947874839\n",
      "Epoch 5/10\t| train loss: 0.0862960385013594 | val loss: 0.08243526770597187 | train accuracy: 0.9792226630828961 | val accuracy: 0.9797711947874839\n",
      "Epoch 6/10\t| train loss: 0.08483238605192589 | val loss: 0.0810745096940377 | train accuracy: 0.9792226630828961 | val accuracy: 0.9797711947874839\n",
      "Epoch 7/10\t| train loss: 0.08348927659270589 | val loss: 0.0799362770977384 | train accuracy: 0.9792226630828961 | val accuracy: 0.9797711947874839\n",
      "Epoch 8/10\t| train loss: 0.08201758385828582 | val loss: 0.07981430412739282 | train accuracy: 0.9792226630828961 | val accuracy: 0.9797711947874839\n",
      "Epoch 9/10\t| train loss: 0.08080357084503502 | val loss: 0.07753911316527459 | train accuracy: 0.9792226630828961 | val accuracy: 0.9797711947874839\n",
      "Epoch 10/10\t| train loss: 0.07961238878093019 | val loss: 0.07680826982679001 | train accuracy: 0.9792226630828961 | val accuracy: 0.9797711947874839\n",
      "\n",
      "frequency_branch_do_5_lr_0001_up.pth does not exist.\n",
      "Epoch 1/10\t| train loss: 0.10555460060347152 | val loss: 0.09948826111351863 | train accuracy: 0.9788718707187926 | val accuracy: 0.9797711947874839\n",
      "Epoch 2/10\t| train loss: 0.10119125391083786 | val loss: 0.09892083850982551 | train accuracy: 0.9792226630828961 | val accuracy: 0.9797711947874839\n",
      "Epoch 3/10\t| train loss: 0.10041751482304545 | val loss: 0.09782655433024098 | train accuracy: 0.9792226630828961 | val accuracy: 0.9797711947874839\n",
      "Epoch 4/10\t| train loss: 0.09919616197890437 | val loss: 0.09637266634769766 | train accuracy: 0.9792226630828961 | val accuracy: 0.9797711947874839\n",
      "Epoch 5/10\t| train loss: 0.09807184056544693 | val loss: 0.09508537286960976 | train accuracy: 0.9792226630828961 | val accuracy: 0.9797711947874839\n",
      "Epoch 6/10\t| train loss: 0.09710672604189348 | val loss: 0.09362684789907007 | train accuracy: 0.9792226630828961 | val accuracy: 0.9797711947874839\n",
      "Epoch 7/10\t| train loss: 0.09639169445486157 | val loss: 0.09290542013698211 | train accuracy: 0.9792226630828961 | val accuracy: 0.9797711947874839\n",
      "Epoch 8/10\t| train loss: 0.09625488824817767 | val loss: 0.09231291615679162 | train accuracy: 0.9792226630828961 | val accuracy: 0.9797711947874839\n",
      "Epoch 9/10\t| train loss: 0.09554186634177296 | val loss: 0.09177007771129793 | train accuracy: 0.9792226630828961 | val accuracy: 0.9797711947874839\n",
      "Epoch 10/10\t| train loss: 0.09474602976150877 | val loss: 0.09107478423445854 | train accuracy: 0.9792226630828961 | val accuracy: 0.9797711947874839\n",
      "\n",
      "frequency_branch_do_5_lr_0001_noup.pth does not exist.\n",
      "Epoch 1/10\t| train loss: 0.10602607825798496 | val loss: 0.09932833667233483 | train accuracy: 0.978293537361757 | val accuracy: 0.9797711947874839\n",
      "Epoch 2/10\t| train loss: 0.1013163646800877 | val loss: 0.09886127340438212 | train accuracy: 0.9792226630828961 | val accuracy: 0.9797711947874839\n",
      "Epoch 3/10\t| train loss: 0.10031452890891146 | val loss: 0.09764148068145573 | train accuracy: 0.9792226630828961 | val accuracy: 0.9797711947874839\n",
      "Epoch 4/10\t| train loss: 0.09917447895950704 | val loss: 0.09634264767976031 | train accuracy: 0.9792226630828961 | val accuracy: 0.9797711947874839\n",
      "Epoch 5/10\t| train loss: 0.0980930081386655 | val loss: 0.09502850399276476 | train accuracy: 0.9792226630828961 | val accuracy: 0.9797711947874839\n",
      "Epoch 6/10\t| train loss: 0.0970270034718348 | val loss: 0.09376918296538182 | train accuracy: 0.9792226630828961 | val accuracy: 0.9797711947874839\n",
      "Epoch 7/10\t| train loss: 0.09581639907233816 | val loss: 0.09263213358439025 | train accuracy: 0.9792226630828961 | val accuracy: 0.9797711947874839\n",
      "Epoch 8/10\t| train loss: 0.09512150023768676 | val loss: 0.09126233170899137 | train accuracy: 0.9792226630828961 | val accuracy: 0.9797711947874839\n",
      "Epoch 9/10\t| train loss: 0.09380553358692628 | val loss: 0.09030536214554817 | train accuracy: 0.9792226630828961 | val accuracy: 0.9797711947874839\n",
      "Epoch 10/10\t| train loss: 0.09330542450690517 | val loss: 0.08914487412451559 | train accuracy: 0.9792226630828961 | val accuracy: 0.9797711947874839\n",
      "\n"
     ]
    }
   ],
   "source": [
    "# Validation accuracies\n",
    "val_accuracy = {}\n",
    "\n",
    "# Training loop\n",
    "for do in dropout:\n",
    "    for lr in learning_rate:\n",
    "        for lr_update in learning_rate_update:\n",
    "            # Create frequency branch model and redirect to device\n",
    "            model_cnn = FrequencyCNN(sequence_length, sequence_channels, kernel_1d, linear_size, do)\n",
    "            model_cnn.to(DEVICE)\n",
    "            \n",
    "            # Construct model filename\n",
    "            do_str, lr_str, lr_update_str = str(do).replace('0.', ''), str(lr).replace('0.', ''), 'up' if lr_update else 'noup'\n",
    "            model_filename = f'frequency_branch_do_{do_str}_lr_{lr_str}_{lr_update_str}.pth'\n",
    "            print(f'{model_filename}', end='')\n",
    "            \n",
    "            # Check if exist trained model\n",
    "            if not os.path.isfile(f'./pretrained/{model_filename}'):\n",
    "                # Model status\n",
    "                print(' does not exist.')\n",
    "                # Run model training with hyperparameter\n",
    "                cnn_train_losses, cnn_val_losses, cnn_train_accuracies, cnn_val_accuracies = run_model(train_dl, val_dl, model_cnn, DEVICE, epochs, lr, lr_update)\n",
    "                # Save trained model\n",
    "                torch.save(model_cnn.state_dict(), f'./pretrained/{model_filename}')\n",
    "            else:\n",
    "                # Model status\n",
    "                print(' already exists.')\n",
    "                # Load trained model\n",
    "                model_cnn.load_state_dict(torch.load(f'./pretrained/{model_filename}'))\n",
    "            \n",
    "            # Dummy print\n",
    "            print()\n",
    "\n",
    "            # Accuracy over validation set\n",
    "            val_prob, val_pred, val_true = predict(model_cnn, val_dl, DEVICE)\n",
    "            val_accuracy[model_filename] = compute_accuracy(val_pred, val_true)"
   ]
  },
  {
   "cell_type": "code",
   "execution_count": 85,
   "metadata": {},
   "outputs": [
    {
     "name": "stdout",
     "output_type": "stream",
     "text": [
      "Validation accuracies: {'frequency_branch_do_1_lr_01_up.pth': 0.9805288279415107, 'frequency_branch_do_1_lr_01_noup.pth': 0.9808697628608228, 'frequency_branch_do_1_lr_001_up.pth': 0.9811728161224336, 'frequency_branch_do_1_lr_001_noup.pth': 0.9824986741419804, 'frequency_branch_do_1_lr_0001_up.pth': 0.9797711947874839, 'frequency_branch_do_1_lr_0001_noup.pth': 0.9797711947874839, 'frequency_branch_do_5_lr_01_up.pth': 0.9797711947874839, 'frequency_branch_do_5_lr_01_noup.pth': 0.9797711947874839, 'frequency_branch_do_5_lr_001_up.pth': 0.9797711947874839, 'frequency_branch_do_5_lr_001_noup.pth': 0.9797711947874839, 'frequency_branch_do_5_lr_0001_up.pth': 0.9797711947874839, 'frequency_branch_do_5_lr_0001_noup.pth': 0.9797711947874839}\n"
     ]
    }
   ],
   "source": [
    "# Validation accuracies\n",
    "print(f'Validation accuracies: {val_accuracy}')"
   ]
  },
  {
   "cell_type": "code",
   "execution_count": 86,
   "metadata": {
    "tags": []
   },
   "outputs": [
    {
     "name": "stdout",
     "output_type": "stream",
     "text": [
      "Best model according to validation: frequency_branch_do_1_lr_001_noup.pth\n"
     ]
    }
   ],
   "source": [
    "# Model filename with minimum validation accuracy\n",
    "best_model_filename = max(val_accuracy, key=val_accuracy.get)\n",
    "\n",
    "# Best model according to validation\n",
    "print(f'Best model according to validation: {best_model_filename}')"
   ]
  }
 ],
 "metadata": {
  "colab": {
   "authorship_tag": "ABX9TyNvA1NYlb+Hr4R33OAdfQ6S",
   "provenance": []
  },
  "kernelspec": {
   "display_name": "Python 3 (ipykernel)",
   "language": "python",
   "name": "python3"
  },
  "language_info": {
   "codemirror_mode": {
    "name": "ipython",
    "version": 3
   },
   "file_extension": ".py",
   "mimetype": "text/x-python",
   "name": "python",
   "nbconvert_exporter": "python",
   "pygments_lexer": "ipython3",
   "version": "3.11.7"
  }
 },
 "nbformat": 4,
 "nbformat_minor": 4
}
