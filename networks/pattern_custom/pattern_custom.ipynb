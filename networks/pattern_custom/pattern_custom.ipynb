{
 "cells": [
  {
   "cell_type": "markdown",
   "metadata": {},
   "source": [
    "# DNA dataset"
   ]
  },
  {
   "cell_type": "markdown",
   "metadata": {},
   "source": [
    "## Retrieval"
   ]
  },
  {
   "cell_type": "code",
   "execution_count": 3,
   "metadata": {
    "executionInfo": {
     "elapsed": 358,
     "status": "ok",
     "timestamp": 1713988733653,
     "user": {
      "displayName": "Federico Pivotto",
      "userId": "03771647288797286069"
     },
     "user_tz": -120
    },
    "id": "SXwB9yhWqslD",
    "tags": []
   },
   "outputs": [],
   "source": [
    "# Module for downloading files\n",
    "import urllib.request\n",
    "\n",
    "# Module for handling files\n",
    "import os.path"
   ]
  },
  {
   "cell_type": "code",
   "execution_count": 4,
   "metadata": {
    "executionInfo": {
     "elapsed": 4,
     "status": "ok",
     "timestamp": 1713988734049,
     "user": {
      "displayName": "Federico Pivotto",
      "userId": "03771647288797286069"
     },
     "user_tz": -120
    },
    "id": "_RIKhqcIeLqh"
   },
   "outputs": [],
   "source": [
    "# Download train dataset from source\n",
    "if not os.path.isfile('./dataset/fullset_train.csv'):\n",
    "    opener = urllib.request.build_opener()\n",
    "    urllib.request.install_opener(opener)\n",
    "    urllib.request.urlretrieve('https://raw.githubusercontent.com/NeuroCSUT/ViraMiner/master/data/DNA_data/fullset_train.csv', './dataset/fullset_train.csv')\n",
    "\n",
    "# Download validation dataset from source\n",
    "if not os.path.isfile('./dataset/fullset_validation.csv'):\n",
    "    opener = urllib.request.build_opener()\n",
    "    urllib.request.install_opener(opener)\n",
    "    urllib.request.urlretrieve('https://raw.githubusercontent.com/NeuroCSUT/ViraMiner/master/data/DNA_data/fullset_validation.csv', './dataset/fullset_validation.csv')\n",
    "\n",
    "# Download validation dataset from source\n",
    "if not os.path.isfile('./dataset/fullset_test.csv'):\n",
    "    opener = urllib.request.build_opener()\n",
    "    urllib.request.install_opener(opener)\n",
    "    urllib.request.urlretrieve('https://raw.githubusercontent.com/NeuroCSUT/ViraMiner/master/data/DNA_data/fullset_test.csv', './dataset/fullset_test.csv')"
   ]
  },
  {
   "cell_type": "markdown",
   "metadata": {},
   "source": [
    "## Preprocessing"
   ]
  },
  {
   "cell_type": "code",
   "execution_count": 6,
   "metadata": {
    "executionInfo": {
     "elapsed": 5,
     "status": "ok",
     "timestamp": 1713988734373,
     "user": {
      "displayName": "Federico Pivotto",
      "userId": "03771647288797286069"
     },
     "user_tz": -120
    },
    "id": "Lm0OoH4DruXS"
   },
   "outputs": [],
   "source": [
    "# Module for data analysis\n",
    "import pandas as pd"
   ]
  },
  {
   "cell_type": "code",
   "execution_count": 7,
   "metadata": {
    "colab": {
     "base_uri": "https://localhost:8080/",
     "height": 287
    },
    "executionInfo": {
     "elapsed": 14,
     "status": "error",
     "timestamp": 1713988778128,
     "user": {
      "displayName": "Federico Pivotto",
      "userId": "03771647288797286069"
     },
     "user_tz": -120
    },
    "id": "oWzWbc4Cn75p",
    "outputId": "bd233d07-9b52-4bf3-9b36-0a4555531098"
   },
   "outputs": [],
   "source": [
    "# Read train dataset\n",
    "df_train = pd.read_csv('./dataset/fullset_train.csv', header=None, on_bad_lines='skip')\n",
    "# Drop features\n",
    "df_train.drop(0, axis=1, inplace=True)\n",
    "# Remove duplicates\n",
    "df_train.drop_duplicates(inplace=True)\n",
    "\n",
    "# Read validation dataset\n",
    "df_val = pd.read_csv('./dataset/fullset_validation.csv', header=None, on_bad_lines='skip')\n",
    "# Drop features\n",
    "df_val.drop(0, axis=1, inplace=True)\n",
    "# Remove duplicates\n",
    "df_val.drop_duplicates(inplace=True)\n",
    "\n",
    "# Read test dataset\n",
    "df_test = pd.read_csv('./dataset/fullset_test.csv', header=None, on_bad_lines='skip')\n",
    "# Drop features\n",
    "df_test.drop(0, axis=1, inplace=True)\n",
    "# Remove duplicates\n",
    "df_test.drop_duplicates(inplace=True)"
   ]
  },
  {
   "cell_type": "markdown",
   "metadata": {},
   "source": [
    "## Preview"
   ]
  },
  {
   "cell_type": "code",
   "execution_count": 9,
   "metadata": {},
   "outputs": [
    {
     "data": {
      "text/html": [
       "<div>\n",
       "<style scoped>\n",
       "    .dataframe tbody tr th:only-of-type {\n",
       "        vertical-align: middle;\n",
       "    }\n",
       "\n",
       "    .dataframe tbody tr th {\n",
       "        vertical-align: top;\n",
       "    }\n",
       "\n",
       "    .dataframe thead th {\n",
       "        text-align: right;\n",
       "    }\n",
       "</style>\n",
       "<table border=\"1\" class=\"dataframe\">\n",
       "  <thead>\n",
       "    <tr style=\"text-align: right;\">\n",
       "      <th></th>\n",
       "      <th>1</th>\n",
       "      <th>2</th>\n",
       "    </tr>\n",
       "  </thead>\n",
       "  <tbody>\n",
       "    <tr>\n",
       "      <th>0</th>\n",
       "      <td>CAAGCCAAGATTTTCTCGCGTCACACTACTCATGACCATTGTATTA...</td>\n",
       "      <td>0</td>\n",
       "    </tr>\n",
       "    <tr>\n",
       "      <th>1</th>\n",
       "      <td>AACGAAGCACGGGCCGAGAGATTGAGGAACCAAGGTCCAGCTCTAG...</td>\n",
       "      <td>0</td>\n",
       "    </tr>\n",
       "    <tr>\n",
       "      <th>2</th>\n",
       "      <td>TAGTGGGTGAGGTTTCTATTTCCATAATGATCTCGCCTCAATTACT...</td>\n",
       "      <td>0</td>\n",
       "    </tr>\n",
       "    <tr>\n",
       "      <th>3</th>\n",
       "      <td>ATATGACCATTCTTGCAAGGTAACACAGGTACATTTTCACAAAGTG...</td>\n",
       "      <td>0</td>\n",
       "    </tr>\n",
       "    <tr>\n",
       "      <th>4</th>\n",
       "      <td>GGTCTTAAAACAACAGAAATTTTTTCCATCACAGTTGCAGAAATTA...</td>\n",
       "      <td>0</td>\n",
       "    </tr>\n",
       "    <tr>\n",
       "      <th>...</th>\n",
       "      <td>...</td>\n",
       "      <td>...</td>\n",
       "    </tr>\n",
       "    <tr>\n",
       "      <th>211234</th>\n",
       "      <td>TCTTCTTTTTTTTAAAAGTGTTTAGGAAGTTGTAAAATTCATCCAA...</td>\n",
       "      <td>0</td>\n",
       "    </tr>\n",
       "    <tr>\n",
       "      <th>211235</th>\n",
       "      <td>AAACCATTTCTGCCTCCCCACTTTCATCATCGTCATGTAAGTCACA...</td>\n",
       "      <td>0</td>\n",
       "    </tr>\n",
       "    <tr>\n",
       "      <th>211236</th>\n",
       "      <td>ACGCTCACGTTGGAGATGATGAAAAGAACAAGAAATACGCCGATGA...</td>\n",
       "      <td>0</td>\n",
       "    </tr>\n",
       "    <tr>\n",
       "      <th>211237</th>\n",
       "      <td>GCCTTGCCTGTTACATTTTACTTCTTCCAGCAGGGCATGCAGAGAG...</td>\n",
       "      <td>0</td>\n",
       "    </tr>\n",
       "    <tr>\n",
       "      <th>211238</th>\n",
       "      <td>CTAAAATCATATAAAGTAATAAGACTACAACATTGACAAGATGTAA...</td>\n",
       "      <td>0</td>\n",
       "    </tr>\n",
       "  </tbody>\n",
       "</table>\n",
       "<p>210951 rows × 2 columns</p>\n",
       "</div>"
      ],
      "text/plain": [
       "                                                        1  2\n",
       "0       CAAGCCAAGATTTTCTCGCGTCACACTACTCATGACCATTGTATTA...  0\n",
       "1       AACGAAGCACGGGCCGAGAGATTGAGGAACCAAGGTCCAGCTCTAG...  0\n",
       "2       TAGTGGGTGAGGTTTCTATTTCCATAATGATCTCGCCTCAATTACT...  0\n",
       "3       ATATGACCATTCTTGCAAGGTAACACAGGTACATTTTCACAAAGTG...  0\n",
       "4       GGTCTTAAAACAACAGAAATTTTTTCCATCACAGTTGCAGAAATTA...  0\n",
       "...                                                   ... ..\n",
       "211234  TCTTCTTTTTTTTAAAAGTGTTTAGGAAGTTGTAAAATTCATCCAA...  0\n",
       "211235  AAACCATTTCTGCCTCCCCACTTTCATCATCGTCATGTAAGTCACA...  0\n",
       "211236  ACGCTCACGTTGGAGATGATGAAAAGAACAAGAAATACGCCGATGA...  0\n",
       "211237  GCCTTGCCTGTTACATTTTACTTCTTCCAGCAGGGCATGCAGAGAG...  0\n",
       "211238  CTAAAATCATATAAAGTAATAAGACTACAACATTGACAAGATGTAA...  0\n",
       "\n",
       "[210951 rows x 2 columns]"
      ]
     },
     "execution_count": 9,
     "metadata": {},
     "output_type": "execute_result"
    }
   ],
   "source": [
    "# Show train dataset\n",
    "df_train"
   ]
  },
  {
   "cell_type": "code",
   "execution_count": 10,
   "metadata": {},
   "outputs": [
    {
     "data": {
      "text/html": [
       "<div>\n",
       "<style scoped>\n",
       "    .dataframe tbody tr th:only-of-type {\n",
       "        vertical-align: middle;\n",
       "    }\n",
       "\n",
       "    .dataframe tbody tr th {\n",
       "        vertical-align: top;\n",
       "    }\n",
       "\n",
       "    .dataframe thead th {\n",
       "        text-align: right;\n",
       "    }\n",
       "</style>\n",
       "<table border=\"1\" class=\"dataframe\">\n",
       "  <thead>\n",
       "    <tr style=\"text-align: right;\">\n",
       "      <th></th>\n",
       "      <th>1</th>\n",
       "      <th>2</th>\n",
       "    </tr>\n",
       "  </thead>\n",
       "  <tbody>\n",
       "    <tr>\n",
       "      <th>0</th>\n",
       "      <td>CTTATCTGTTTCTTACTGAGCATGGTATCCGTGGTGGCCTTGAGGT...</td>\n",
       "      <td>0</td>\n",
       "    </tr>\n",
       "    <tr>\n",
       "      <th>1</th>\n",
       "      <td>TAAATAGAAGGAATTGGAGGGACAAACGATGAATGAAGAATTAATG...</td>\n",
       "      <td>1</td>\n",
       "    </tr>\n",
       "    <tr>\n",
       "      <th>2</th>\n",
       "      <td>CCCTGGGGATGCCCAAAATGCTCATGGGATGAGGGTATGTGAACTA...</td>\n",
       "      <td>0</td>\n",
       "    </tr>\n",
       "    <tr>\n",
       "      <th>3</th>\n",
       "      <td>GCATGCAATAGCCTGGTTGAATCCTGGACACAGCAAACATAGTTTG...</td>\n",
       "      <td>0</td>\n",
       "    </tr>\n",
       "    <tr>\n",
       "      <th>4</th>\n",
       "      <td>TTGTTCACAATGAGGCACTTCCAACCCTTTTGATGTCCTCTGACTT...</td>\n",
       "      <td>0</td>\n",
       "    </tr>\n",
       "    <tr>\n",
       "      <th>...</th>\n",
       "      <td>...</td>\n",
       "      <td>...</td>\n",
       "    </tr>\n",
       "    <tr>\n",
       "      <th>26400</th>\n",
       "      <td>GTGAGCCACTGCACCTGGCCCTGACTGTAATTTTTAAAGACTGTTT...</td>\n",
       "      <td>0</td>\n",
       "    </tr>\n",
       "    <tr>\n",
       "      <th>26401</th>\n",
       "      <td>CAGCCTGGCCTAGACCCACATTCAGAAAACAATGGCCCCAGGATAA...</td>\n",
       "      <td>0</td>\n",
       "    </tr>\n",
       "    <tr>\n",
       "      <th>26402</th>\n",
       "      <td>CCAGCTAAGAAAGCTCAGGGGCTGGAGAGCTCTGGTACACCACCAC...</td>\n",
       "      <td>0</td>\n",
       "    </tr>\n",
       "    <tr>\n",
       "      <th>26403</th>\n",
       "      <td>ATAGCGGGTACTGAGGGGCATTCATGACCACTTTCCTCCACGAAAC...</td>\n",
       "      <td>0</td>\n",
       "    </tr>\n",
       "    <tr>\n",
       "      <th>26404</th>\n",
       "      <td>GGGTGAACTCCTCAGTTGGCACAACCTAGCCAACTAGCCAACAGGA...</td>\n",
       "      <td>0</td>\n",
       "    </tr>\n",
       "  </tbody>\n",
       "</table>\n",
       "<p>26398 rows × 2 columns</p>\n",
       "</div>"
      ],
      "text/plain": [
       "                                                       1  2\n",
       "0      CTTATCTGTTTCTTACTGAGCATGGTATCCGTGGTGGCCTTGAGGT...  0\n",
       "1      TAAATAGAAGGAATTGGAGGGACAAACGATGAATGAAGAATTAATG...  1\n",
       "2      CCCTGGGGATGCCCAAAATGCTCATGGGATGAGGGTATGTGAACTA...  0\n",
       "3      GCATGCAATAGCCTGGTTGAATCCTGGACACAGCAAACATAGTTTG...  0\n",
       "4      TTGTTCACAATGAGGCACTTCCAACCCTTTTGATGTCCTCTGACTT...  0\n",
       "...                                                  ... ..\n",
       "26400  GTGAGCCACTGCACCTGGCCCTGACTGTAATTTTTAAAGACTGTTT...  0\n",
       "26401  CAGCCTGGCCTAGACCCACATTCAGAAAACAATGGCCCCAGGATAA...  0\n",
       "26402  CCAGCTAAGAAAGCTCAGGGGCTGGAGAGCTCTGGTACACCACCAC...  0\n",
       "26403  ATAGCGGGTACTGAGGGGCATTCATGACCACTTTCCTCCACGAAAC...  0\n",
       "26404  GGGTGAACTCCTCAGTTGGCACAACCTAGCCAACTAGCCAACAGGA...  0\n",
       "\n",
       "[26398 rows x 2 columns]"
      ]
     },
     "execution_count": 10,
     "metadata": {},
     "output_type": "execute_result"
    }
   ],
   "source": [
    "# Show validation dataset\n",
    "df_val"
   ]
  },
  {
   "cell_type": "code",
   "execution_count": 11,
   "metadata": {},
   "outputs": [
    {
     "data": {
      "text/html": [
       "<div>\n",
       "<style scoped>\n",
       "    .dataframe tbody tr th:only-of-type {\n",
       "        vertical-align: middle;\n",
       "    }\n",
       "\n",
       "    .dataframe tbody tr th {\n",
       "        vertical-align: top;\n",
       "    }\n",
       "\n",
       "    .dataframe thead th {\n",
       "        text-align: right;\n",
       "    }\n",
       "</style>\n",
       "<table border=\"1\" class=\"dataframe\">\n",
       "  <thead>\n",
       "    <tr style=\"text-align: right;\">\n",
       "      <th></th>\n",
       "      <th>1</th>\n",
       "      <th>2</th>\n",
       "    </tr>\n",
       "  </thead>\n",
       "  <tbody>\n",
       "    <tr>\n",
       "      <th>0</th>\n",
       "      <td>CCTGGGACCACTGTAGTTGTGGACCATACGGGGCTCTTTCTGTTGA...</td>\n",
       "      <td>0</td>\n",
       "    </tr>\n",
       "    <tr>\n",
       "      <th>1</th>\n",
       "      <td>GGCCTGAGCCTCCCAGTTTGGAGTAGGGCCTCTTAAGGAAAAAAGA...</td>\n",
       "      <td>0</td>\n",
       "    </tr>\n",
       "    <tr>\n",
       "      <th>2</th>\n",
       "      <td>TGAGCACATATCTGTGGGGCAGGTGGGGAATAAACAGCACAATTAC...</td>\n",
       "      <td>0</td>\n",
       "    </tr>\n",
       "    <tr>\n",
       "      <th>3</th>\n",
       "      <td>AACCATGCAGAAGCAAAAATTTTGAGAACATAAGGCCTTCACGAAC...</td>\n",
       "      <td>0</td>\n",
       "    </tr>\n",
       "    <tr>\n",
       "      <th>4</th>\n",
       "      <td>GAGATTTGGATGGGAACACAGACAAACCATACAACTAAGGAAACTT...</td>\n",
       "      <td>0</td>\n",
       "    </tr>\n",
       "    <tr>\n",
       "      <th>...</th>\n",
       "      <td>...</td>\n",
       "      <td>...</td>\n",
       "    </tr>\n",
       "    <tr>\n",
       "      <th>26400</th>\n",
       "      <td>GGCTTGCTGTGAGAAATGAATTTATGAATTCGGTTCTTGCTGAAGC...</td>\n",
       "      <td>0</td>\n",
       "    </tr>\n",
       "    <tr>\n",
       "      <th>26401</th>\n",
       "      <td>TTTTGTGACTTGGGTTGTCTTTTGTATTCATTGGTAGGGCAGTCGA...</td>\n",
       "      <td>0</td>\n",
       "    </tr>\n",
       "    <tr>\n",
       "      <th>26402</th>\n",
       "      <td>TCTTTCAGGTACATATTGAAATCCCTGTGGATAACTTAGCTATATC...</td>\n",
       "      <td>0</td>\n",
       "    </tr>\n",
       "    <tr>\n",
       "      <th>26403</th>\n",
       "      <td>GGGACACCCTGAGCTCGTCTTCTCACCCCTAGCCTTTCTGCTCCCT...</td>\n",
       "      <td>0</td>\n",
       "    </tr>\n",
       "    <tr>\n",
       "      <th>26404</th>\n",
       "      <td>CCTCTGACAACAGGCCAGCATCCAGAAACCACTCGGTCTGGCAACC...</td>\n",
       "      <td>0</td>\n",
       "    </tr>\n",
       "  </tbody>\n",
       "</table>\n",
       "<p>26401 rows × 2 columns</p>\n",
       "</div>"
      ],
      "text/plain": [
       "                                                       1  2\n",
       "0      CCTGGGACCACTGTAGTTGTGGACCATACGGGGCTCTTTCTGTTGA...  0\n",
       "1      GGCCTGAGCCTCCCAGTTTGGAGTAGGGCCTCTTAAGGAAAAAAGA...  0\n",
       "2      TGAGCACATATCTGTGGGGCAGGTGGGGAATAAACAGCACAATTAC...  0\n",
       "3      AACCATGCAGAAGCAAAAATTTTGAGAACATAAGGCCTTCACGAAC...  0\n",
       "4      GAGATTTGGATGGGAACACAGACAAACCATACAACTAAGGAAACTT...  0\n",
       "...                                                  ... ..\n",
       "26400  GGCTTGCTGTGAGAAATGAATTTATGAATTCGGTTCTTGCTGAAGC...  0\n",
       "26401  TTTTGTGACTTGGGTTGTCTTTTGTATTCATTGGTAGGGCAGTCGA...  0\n",
       "26402  TCTTTCAGGTACATATTGAAATCCCTGTGGATAACTTAGCTATATC...  0\n",
       "26403  GGGACACCCTGAGCTCGTCTTCTCACCCCTAGCCTTTCTGCTCCCT...  0\n",
       "26404  CCTCTGACAACAGGCCAGCATCCAGAAACCACTCGGTCTGGCAACC...  0\n",
       "\n",
       "[26401 rows x 2 columns]"
      ]
     },
     "execution_count": 11,
     "metadata": {},
     "output_type": "execute_result"
    }
   ],
   "source": [
    "# Show test dataset\n",
    "df_test"
   ]
  },
  {
   "cell_type": "markdown",
   "metadata": {},
   "source": [
    "## One-hot encoding"
   ]
  },
  {
   "cell_type": "markdown",
   "metadata": {},
   "source": [
    "### DNA encoding"
   ]
  },
  {
   "cell_type": "code",
   "execution_count": 14,
   "metadata": {},
   "outputs": [],
   "source": [
    "# Module for numpy vectors\n",
    "import numpy as np"
   ]
  },
  {
   "cell_type": "code",
   "execution_count": 15,
   "metadata": {},
   "outputs": [],
   "source": [
    "# One-hot encoding\n",
    "def one_hot_encode(seq):\n",
    "    # Make sure seq has only allowed bases\n",
    "    allowed = set('ACGTN')\n",
    "    if not set(seq).issubset(allowed):\n",
    "        invalid = set(seq) - allowed\n",
    "        raise ValueError(f'Sequence contains chars not in allowed DNA alphabet (ACGTN): {invalid}')\n",
    "        \n",
    "    # Dictionary returning one-hot encoding for each nucleotide \n",
    "    nuc_d = {'A':[1, 0, 0, 0, 0],\n",
    "             'C':[0, 1, 0, 0, 0],\n",
    "             'G':[0, 0, 1, 0, 0],\n",
    "             'T':[0, 0, 0, 1, 0],\n",
    "             'N':[0, 0, 0, 0, 1]}\n",
    "    \n",
    "    # Create array from nucleotide sequence\n",
    "    vec = np.array([nuc_d[x] for x in seq])\n",
    "\n",
    "    # Return one-hot encoding\n",
    "    return vec"
   ]
  },
  {
   "cell_type": "markdown",
   "metadata": {},
   "source": [
    "### Dataset encoding"
   ]
  },
  {
   "cell_type": "code",
   "execution_count": 17,
   "metadata": {},
   "outputs": [
    {
     "name": "stdout",
     "output_type": "stream",
     "text": [
      "Requirement already satisfied: torch in c:\\users\\mgeni\\anaconda3\\lib\\site-packages (2.3.0+cu118)\n",
      "Requirement already satisfied: filelock in c:\\users\\mgeni\\anaconda3\\lib\\site-packages (from torch) (3.13.1)\n",
      "Requirement already satisfied: typing-extensions>=4.8.0 in c:\\users\\mgeni\\anaconda3\\lib\\site-packages (from torch) (4.9.0)\n",
      "Requirement already satisfied: sympy in c:\\users\\mgeni\\anaconda3\\lib\\site-packages (from torch) (1.12)\n",
      "Requirement already satisfied: networkx in c:\\users\\mgeni\\anaconda3\\lib\\site-packages (from torch) (3.1)\n",
      "Requirement already satisfied: jinja2 in c:\\users\\mgeni\\anaconda3\\lib\\site-packages (from torch) (3.1.3)\n",
      "Requirement already satisfied: fsspec in c:\\users\\mgeni\\anaconda3\\lib\\site-packages (from torch) (2023.10.0)\n",
      "Requirement already satisfied: mkl<=2021.4.0,>=2021.1.1 in c:\\users\\mgeni\\anaconda3\\lib\\site-packages (from torch) (2021.4.0)\n",
      "Requirement already satisfied: intel-openmp==2021.* in c:\\users\\mgeni\\anaconda3\\lib\\site-packages (from mkl<=2021.4.0,>=2021.1.1->torch) (2021.4.0)\n",
      "Requirement already satisfied: tbb==2021.* in c:\\users\\mgeni\\anaconda3\\lib\\site-packages (from mkl<=2021.4.0,>=2021.1.1->torch) (2021.11.0)\n",
      "Requirement already satisfied: MarkupSafe>=2.0 in c:\\users\\mgeni\\anaconda3\\lib\\site-packages (from jinja2->torch) (2.1.3)\n",
      "Requirement already satisfied: mpmath>=0.19 in c:\\users\\mgeni\\anaconda3\\lib\\site-packages (from sympy->torch) (1.3.0)\n"
     ]
    }
   ],
   "source": [
    "# Install PyTorch\n",
    "!pip install torch"
   ]
  },
  {
   "cell_type": "code",
   "execution_count": 18,
   "metadata": {},
   "outputs": [],
   "source": [
    "# Module for learning models\n",
    "import torch\n",
    "\n",
    "# Module for data manipulation\n",
    "from torch.utils.data import Dataset, DataLoader"
   ]
  },
  {
   "cell_type": "code",
   "execution_count": 19,
   "metadata": {},
   "outputs": [],
   "source": [
    "# Class for one-hot encoding DNA datasets\n",
    "class DatasetOHE(Dataset):\n",
    "    \n",
    "    def __init__(self, df, seq_col=1, target_col=2):\n",
    "        # Get X sequences from correct column in dataframe\n",
    "        self.seqs = list(df[seq_col].values)\n",
    "        self.seq_len = len(self.seqs[0])\n",
    "\n",
    "        # One-hot encode and stack sequences in torch tensor\n",
    "        self.ohe_seqs = torch.stack([torch.tensor(one_hot_encode(x)) for x in self.seqs])\n",
    "    \n",
    "        # Get Y labels\n",
    "        self.labels = torch.tensor(list(df[target_col].values)).unsqueeze(1)\n",
    "        \n",
    "    def __len__(self):\n",
    "        # Return sequence length\n",
    "        return len(self.seqs)\n",
    "    \n",
    "    def __getitem__(self, idx):\n",
    "        # Indexed one-encoded sequence and its label\n",
    "        seq = self.ohe_seqs[idx]\n",
    "        label = self.labels[idx]\n",
    "\n",
    "        # Return extracted element\n",
    "        return seq, label"
   ]
  },
  {
   "cell_type": "code",
   "execution_count": 20,
   "metadata": {},
   "outputs": [],
   "source": [
    "# Build one-endoded dataloader from dataframe\n",
    "def build_dataloader(df, seq_col=1, target_col=2, batch_size=128, shuffle=False):\n",
    "    # Create dataset\n",
    "    ds = DatasetOHE(df, seq_col, target_col)\n",
    "    # Put dataset into data loader\n",
    "    dl = DataLoader(dataset=ds, batch_size=batch_size, shuffle=shuffle)\n",
    "    \n",
    "    return dl"
   ]
  },
  {
   "cell_type": "code",
   "execution_count": 21,
   "metadata": {},
   "outputs": [],
   "source": [
    "# One-hot encoded dataloader for training\n",
    "train_dl = build_dataloader(df_train, shuffle=False)\n",
    "\n",
    "# One-hot encoded dataloader for validation\n",
    "val_dl = build_dataloader(df_val, shuffle=False)\n",
    "\n",
    "# One-hot encoded dataloader for test\n",
    "test_dl = build_dataloader(df_test, shuffle=False)"
   ]
  },
  {
   "cell_type": "markdown",
   "metadata": {},
   "source": [
    "# Pattern-custom concatenation"
   ]
  },
  {
   "cell_type": "markdown",
   "metadata": {},
   "source": [
    "## Debug layer"
   ]
  },
  {
   "cell_type": "code",
   "execution_count": 24,
   "metadata": {},
   "outputs": [],
   "source": [
    "# Module for neural network\n",
    "import torch.nn as nn"
   ]
  },
  {
   "cell_type": "code",
   "execution_count": 25,
   "metadata": {},
   "outputs": [],
   "source": [
    "# Debug layer\n",
    "class DebugLayer(nn.Module):\n",
    "    \n",
    "    def __init__(self):\n",
    "        super(DebugLayer, self).__init__()\n",
    "    \n",
    "    def forward(self, x):\n",
    "        # Print input shape\n",
    "        print(f'x.shape: {x.shape}')\n",
    "        # Print input value\n",
    "        print(f'x: {x}')\n",
    "\n",
    "        # Return input\n",
    "        return x"
   ]
  },
  {
   "cell_type": "markdown",
   "metadata": {},
   "source": [
    "## Inception layer"
   ]
  },
  {
   "cell_type": "code",
   "execution_count": 27,
   "metadata": {},
   "outputs": [],
   "source": [
    "# Custom inception block\n",
    "class InceptionLayer(nn.Module):\n",
    "\n",
    "    def __init__(self, in_channels, out_channels, kernel_1d, kernel_2d):\n",
    "        super(InceptionLayer,self).__init__()\n",
    "\n",
    "        # 1st layer from ViraMiner\n",
    "        self.branch1 = nn.Sequential(\n",
    "            # 1st sub-layer\n",
    "            nn.Conv1d(in_channels, out_channels, kernel_1d, stride=1, padding=2),\n",
    "            \n",
    "            # Activation function\n",
    "            nn.ReLU(inplace=True)\n",
    "        )\n",
    "\n",
    "        # 1st custom layer\n",
    "        self.branch2 = nn.Sequential(\n",
    "            # 1st sub-layer\n",
    "            nn.Conv2d(1, out_channels, kernel_2d, stride=1, padding=0),\n",
    "    \n",
    "            # Activation function\n",
    "            nn.ReLU(inplace=True)\n",
    "        )\n",
    "        \n",
    "    def forward(self, x):\n",
    "        # 1st sub-branch\n",
    "        # Input: 5 channels\n",
    "        # Input shape: batch, channels, width\n",
    "        out1 = self.branch1(x)\n",
    "        \n",
    "        # 2nd sub-branch\n",
    "        # Input: 5 channels as 1 channel\n",
    "        # Input shape: batch, channels, height, width\n",
    "        out2 = self.branch2(x.unsqueeze(1)).squeeze(2)\n",
    "\n",
    "        # Return sub-branch concatenation\n",
    "        out = torch.cat([out1, out2], dim=1)\n",
    "        return out"
   ]
  },
  {
   "cell_type": "markdown",
   "metadata": {},
   "source": [
    "## CNN pattern branch"
   ]
  },
  {
   "cell_type": "code",
   "execution_count": 29,
   "metadata": {},
   "outputs": [],
   "source": [
    "# CNN pattern model\n",
    "class PatternCNN(nn.Module):\n",
    "    \n",
    "    def __init__(self, in_length, in_channels, kernel_1d, linear_size, dropout):\n",
    "        super(PatternCNN, self).__init__()\n",
    "\n",
    "        # Network architecture\n",
    "        self.pattern_cnn = nn.Sequential(\n",
    "            # 1st layer\n",
    "            nn.Conv1d(in_channels, linear_size, kernel_1d),\n",
    "\n",
    "            # Activation function\n",
    "            nn.ReLU(inplace=True),\n",
    "            \n",
    "            # 2nd layer\n",
    "            nn.MaxPool1d(in_length - kernel_1d + 1, stride=1),\n",
    "            \n",
    "            # 3rd layer\n",
    "            nn.Dropout(dropout),\n",
    "            \n",
    "            # 4th layer\n",
    "            nn.Flatten(),\n",
    "            \n",
    "            # 5th layer\n",
    "            nn.Linear(linear_size, linear_size),\n",
    "\n",
    "            # Activation function\n",
    "            nn.ReLU(inplace=True),\n",
    "            \n",
    "            # 6th layer\n",
    "            # nn.Dropout(dropout),\n",
    "\n",
    "            # 7th layer\n",
    "            # nn.Linear(linear_size, 1),\n",
    "\n",
    "            # Activation function\n",
    "            # nn.Sigmoid()\n",
    "        )\n",
    "\n",
    "    def forward(self, x):\n",
    "        # Input shape: batch, sequence length, channels\n",
    "        x = x.permute(0, 2, 1)\n",
    "\n",
    "        # Modified input shape: batch, channels, width\n",
    "        out = self.pattern_cnn(x)\n",
    "\n",
    "        # Return output node\n",
    "        return out"
   ]
  },
  {
   "cell_type": "markdown",
   "metadata": {},
   "source": [
    "## CNN custom branch"
   ]
  },
  {
   "cell_type": "code",
   "execution_count": 31,
   "metadata": {},
   "outputs": [],
   "source": [
    "# CNN custom model\n",
    "class CustomCNN(nn.Module):\n",
    "    \n",
    "    def __init__(self, in_length, in_channels, kernel_1d, kernel_2d, linear_size, dropout):\n",
    "        super(CustomCNN, self).__init__()\n",
    "\n",
    "        # Network architecture\n",
    "        self.custom_cnn = nn.Sequential(\n",
    "            # 1st layer\n",
    "            InceptionLayer(in_channels, round(linear_size/2), kernel_1d, kernel_2d),\n",
    "            \n",
    "            # 2nd layer\n",
    "            nn.AvgPool1d(in_length - kernel_2d + 1, stride=1),\n",
    "            \n",
    "            # 3rd layer\n",
    "            nn.Dropout(dropout),\n",
    "            \n",
    "            # 4th layer\n",
    "            nn.Flatten(),\n",
    "            \n",
    "            # 5th layer\n",
    "            nn.Linear(linear_size, linear_size),\n",
    "\n",
    "            # Activation function\n",
    "            nn.ReLU(inplace=True),\n",
    "            \n",
    "            # 6th layer\n",
    "            # nn.Dropout(dropout),\n",
    "\n",
    "            # 7th layer\n",
    "            # nn.Linear(linear_size, 1),\n",
    "\n",
    "            # Activation function\n",
    "            # nn.Sigmoid()\n",
    "        )\n",
    "\n",
    "    def forward(self, x):\n",
    "        # Input shape: batch, sequence length, channels\n",
    "        x = x.permute(0, 2, 1)\n",
    "\n",
    "        # Modified input shape: batch, channels, width\n",
    "        out = self.custom_cnn(x)\n",
    "\n",
    "        # Return output node\n",
    "        return out"
   ]
  },
  {
   "cell_type": "markdown",
   "metadata": {},
   "source": [
    "## CNN architecture"
   ]
  },
  {
   "cell_type": "code",
   "execution_count": 33,
   "metadata": {},
   "outputs": [],
   "source": [
    "# CNN pattern-custom model\n",
    "class PatternCustomCNN(nn.Module):\n",
    "    \n",
    "    def __init__(self, pattern_cnn, custom_cnn, linear_size, dropout):\n",
    "        super(PatternCustomCNN, self).__init__()\n",
    "\n",
    "        # Network architecture\n",
    "        self.pattern_cnn = pattern_cnn\n",
    "        self.custom_cnn = custom_cnn\n",
    "\n",
    "        self.pattern_custom = nn.Sequential(\n",
    "            # 1th layer\n",
    "            nn.Dropout(dropout),\n",
    "            \n",
    "            # 2th layer\n",
    "            nn.Linear(linear_size, 1),\n",
    "\n",
    "            # Activation function\n",
    "            nn.Sigmoid()\n",
    "        )\n",
    "\n",
    "    def forward(self, x):\n",
    "        # Pattern branch\n",
    "        out1 = self.pattern_cnn(x)\n",
    "        # Custom branch\n",
    "        out2 = self.custom_cnn(x)\n",
    "\n",
    "        # Return pattern-custom concatenation\n",
    "        out = self.pattern_custom(torch.cat([out1, out2], dim=1))\n",
    "        return out"
   ]
  },
  {
   "cell_type": "markdown",
   "metadata": {},
   "source": [
    "# Model training"
   ]
  },
  {
   "cell_type": "markdown",
   "metadata": {},
   "source": [
    "## Hyperparameter"
   ]
  },
  {
   "cell_type": "code",
   "execution_count": 36,
   "metadata": {},
   "outputs": [],
   "source": [
    "# Sequence features\n",
    "sequence_length = 300\n",
    "sequence_channels = 5\n",
    "\n",
    "# Pattern features\n",
    "pattern_kernel_1d = 11\n",
    "pattern_linear_size = 1200\n",
    "\n",
    "# Custom features\n",
    "custom_kernel_1d = 9\n",
    "custom_kernel_2d = 5\n",
    "custom_linear_size = 1000\n",
    "\n",
    "# Network features\n",
    "linear_size = 2200\n",
    "dropout = [0.1, 0.5]\n",
    "\n",
    "# Training features\n",
    "learning_rate = [0.01, 0.001, 0.0001]\n",
    "learning_rate_update = [True, False]\n",
    "epochs = 15"
   ]
  },
  {
   "cell_type": "markdown",
   "metadata": {},
   "source": [
    "## Training utilities"
   ]
  },
  {
   "cell_type": "markdown",
   "metadata": {},
   "source": [
    "### Training core"
   ]
  },
  {
   "cell_type": "code",
   "execution_count": 39,
   "metadata": {},
   "outputs": [],
   "source": [
    "# Loss function applied to a batch of inputs\n",
    "def loss_batch(model, loss_func, xb, yb, opt=None):\n",
    "    # Prediction on given batch\n",
    "    xb_out = model(xb.float())\n",
    "    \n",
    "    # Binary cross entropy\n",
    "    loss = loss_func(xb_out, yb.float())\n",
    "\n",
    "    # Count correct predictions\n",
    "    np_xb_out = xb_out.detach().cpu().numpy().round().astype(int)\n",
    "    np_yb = yb.detach().cpu().numpy().round().astype(int)\n",
    "    correct = np.sum(np_xb_out == np_yb)\n",
    "\n",
    "    # Skip backpropagation if no optimizer\n",
    "    if opt is not None:\n",
    "        loss.backward()\n",
    "        opt.step()\n",
    "        opt.zero_grad()\n",
    "\n",
    "    # Loss statistics on batch\n",
    "    return loss.item(), len(xb), correct"
   ]
  },
  {
   "cell_type": "markdown",
   "metadata": {},
   "source": [
    "### Batch training"
   ]
  },
  {
   "cell_type": "code",
   "execution_count": 41,
   "metadata": {},
   "outputs": [],
   "source": [
    "# Training over train dataset batches within a epoch\n",
    "def train_epoch(model, train_dl, loss_func, device, opt):\n",
    "    # Set model to training mode\n",
    "    model.train()\n",
    "\n",
    "    # Train losses, batch sizes, correct predictions per batch\n",
    "    tl, ns, cp = [], [], []\n",
    "    \n",
    "    # loop over train batches\n",
    "    for xb, yb in train_dl:\n",
    "        # Put train on GPU\n",
    "        xb, yb = xb.to(device),yb.to(device)\n",
    "        \n",
    "        # Provide optimizer to allow backpropagation\n",
    "        t, n, c = loss_batch(model, loss_func, xb, yb, opt=opt)\n",
    "        \n",
    "        # Collect train loss, batch sizes, correct predictions per batch\n",
    "        tl.append(t); ns.append(n); cp.append(c)\n",
    "\n",
    "    # Convert to numpy array\n",
    "    tl, ns, cp = np.array(tl), np.array(ns), np.array(cp)\n",
    "\n",
    "    # Losses weighed average over batches\n",
    "    train_loss = np.average(tl, weights=ns)\n",
    "\n",
    "    # Accuracy arithmetic average over batches\n",
    "    train_acc = np.sum(cp) / np.sum(ns)\n",
    "\n",
    "    # Train statistics on epoch\n",
    "    return train_loss, train_acc"
   ]
  },
  {
   "cell_type": "code",
   "execution_count": 42,
   "metadata": {},
   "outputs": [],
   "source": [
    "# Validation over validation dataset batches within a epoch\n",
    "def val_epoch(model, val_dl, loss_func, device):\n",
    "    # Set model to evaluation mode\n",
    "    model.eval()\n",
    "\n",
    "    # Disable gradient calculation\n",
    "    with torch.no_grad():\n",
    "        # Validation losses, batch sizes, correct predictions per batch\n",
    "        vl, ns, cp = [], [], []\n",
    "        \n",
    "        # Loop over validation batches\n",
    "        for xb, yb in val_dl:\n",
    "            # Put validation on GPU\n",
    "            xb, yb = xb.to(device),yb.to(device)\n",
    "\n",
    "            # Not provide optimizer to deny backpropagation\n",
    "            v, n, c = loss_batch(model, loss_func, xb, yb)\n",
    "\n",
    "            # Collect validation loss, batch sizes, correct predictions per batch\n",
    "            vl.append(v); ns.append(n); cp.append(c)\n",
    "\n",
    "    # Convert to numpy array\n",
    "    vl, ns, cp = np.array(vl), np.array(ns), np.array(cp)\n",
    "\n",
    "    # Losses weighed average over batches\n",
    "    val_loss = np.average(vl, weights=ns)\n",
    "\n",
    "    # Accuracy arithmetic average over batches\n",
    "    val_acc = np.sum(cp) / np.sum(ns)\n",
    "\n",
    "    # Validation statistics on epoch\n",
    "    return val_loss, val_acc"
   ]
  },
  {
   "cell_type": "markdown",
   "metadata": {},
   "source": [
    "### Learning rate update"
   ]
  },
  {
   "cell_type": "code",
   "execution_count": 44,
   "metadata": {},
   "outputs": [],
   "source": [
    "# Rule for updating learning rate\n",
    "def lr_update_rule(opt):\n",
    "    for param in opt.param_groups:\n",
    "        # Halves optimizer learning rate\n",
    "        param['lr'] = param['lr'] * 0.5"
   ]
  },
  {
   "cell_type": "markdown",
   "metadata": {},
   "source": [
    "### Epoch training"
   ]
  },
  {
   "cell_type": "code",
   "execution_count": 46,
   "metadata": {},
   "outputs": [],
   "source": [
    "# Fit model on train dataset and evaluate model on validation dataset\n",
    "def fit(epochs, model, loss_func, opt, train_dl, val_dl, device, lr_update, scheduler):\n",
    "    # Losses on train and validation dataset\n",
    "    train_losses, val_losses = [], []\n",
    "\n",
    "    # Accuracies on train and validation dataset\n",
    "    train_accuracies, val_accuracies = [], []\n",
    "    \n",
    "    # Loop over epochs\n",
    "    for epoch in range(epochs):\n",
    "        # Perform training within epoch\n",
    "        train_loss, train_acc = train_epoch(model,train_dl,loss_func,device,opt)\n",
    "        train_losses.append(train_loss); train_accuracies.append(train_acc)\n",
    "\n",
    "        # Perform validation within epoch\n",
    "        val_loss, val_acc = val_epoch(model,val_dl,loss_func,device)\n",
    "        val_losses.append(val_loss); val_accuracies.append(val_acc)\n",
    "        \n",
    "        # Learning rate update\n",
    "        # if lr_update and (epoch+1)%5 == 0:\n",
    "        #    lr_update_rule(opt)\n",
    "        scheduler.step()\n",
    "\n",
    "        # Epoch statistics\n",
    "        print(f'Epoch {epoch+1}/{epochs}\\t| train loss: {train_loss} | val loss: {val_loss} | train accuracy: {train_acc} | val accuracy: {val_acc}')\n",
    "\n",
    "    # Train and validation statistics during model fit\n",
    "    return train_losses, val_losses, train_accuracies, val_accuracies"
   ]
  },
  {
   "cell_type": "markdown",
   "metadata": {},
   "source": [
    "## Training start"
   ]
  },
  {
   "cell_type": "code",
   "execution_count": 48,
   "metadata": {},
   "outputs": [],
   "source": [
    "# Module for cosine annealing learning rate\n",
    "from torch.optim.lr_scheduler import CosineAnnealingLR\n",
    "\n",
    "# Run model train and validation with binary cross entropy and Adam optimizer\n",
    "def run_model(train_dl, val_dl, model, device, epochs, lr, lr_update, lossf=None, opt=None):\n",
    "    # Adam optimizer if no optimizer provided\n",
    "    if opt:\n",
    "        optimizer = opt\n",
    "    else:\n",
    "        optimizer = torch.optim.Adam(model.parameters(), lr=lr)\n",
    "        scheduler = CosineAnnealingLR(optimizer, T_max=5)\n",
    "    \n",
    "    # Binary cross entropy if no loss function provided\n",
    "    if lossf:\n",
    "        loss_func = lossf\n",
    "    else:\n",
    "        loss_func = torch.nn.BCELoss()\n",
    "    \n",
    "    # Run model fit\n",
    "    train_losses, val_losses, train_accuracies, val_accuracies = fit(epochs, model, loss_func, optimizer, train_dl, val_dl, device, lr_update, scheduler)\n",
    "\n",
    "    # Model fit statistics\n",
    "    return train_losses, val_losses, train_accuracies, val_accuracies"
   ]
  },
  {
   "cell_type": "code",
   "execution_count": 49,
   "metadata": {},
   "outputs": [],
   "source": [
    "# Use GPU if available\n",
    "DEVICE = torch.device('cuda' if torch.cuda.is_available() else 'cpu')"
   ]
  },
  {
   "cell_type": "code",
   "execution_count": 50,
   "metadata": {},
   "outputs": [],
   "source": [
    "# Create pattern branch and redirect to device\n",
    "pattern_cnn = PatternCNN(sequence_length, sequence_channels, pattern_kernel_1d, pattern_linear_size, dropout[1])\n",
    "pattern_cnn.to(DEVICE)\n",
    "\n",
    "# Create custom branch model and redirect to device\n",
    "custom_cnn = CustomCNN(sequence_length, sequence_channels, custom_kernel_1d, custom_kernel_2d, custom_linear_size, dropout[0])\n",
    "custom_cnn.to(DEVICE);"
   ]
  },
  {
   "cell_type": "code",
   "execution_count": 51,
   "metadata": {},
   "outputs": [
    {
     "name": "stdout",
     "output_type": "stream",
     "text": [
      "PatternCustomCNN(\n",
      "  (pattern_cnn): PatternCNN(\n",
      "    (pattern_cnn): Sequential(\n",
      "      (0): Conv1d(5, 1200, kernel_size=(11,), stride=(1,))\n",
      "      (1): ReLU(inplace=True)\n",
      "      (2): MaxPool1d(kernel_size=290, stride=1, padding=0, dilation=1, ceil_mode=False)\n",
      "      (3): Dropout(p=0.5, inplace=False)\n",
      "      (4): Flatten(start_dim=1, end_dim=-1)\n",
      "      (5): Linear(in_features=1200, out_features=1200, bias=True)\n",
      "      (6): ReLU(inplace=True)\n",
      "    )\n",
      "  )\n",
      "  (custom_cnn): CustomCNN(\n",
      "    (custom_cnn): Sequential(\n",
      "      (0): InceptionLayer(\n",
      "        (branch1): Sequential(\n",
      "          (0): Conv1d(5, 500, kernel_size=(9,), stride=(1,), padding=(2,))\n",
      "          (1): ReLU(inplace=True)\n",
      "        )\n",
      "        (branch2): Sequential(\n",
      "          (0): Conv2d(1, 500, kernel_size=(5, 5), stride=(1, 1))\n",
      "          (1): ReLU(inplace=True)\n",
      "        )\n",
      "      )\n",
      "      (1): AvgPool1d(kernel_size=(296,), stride=(1,), padding=(0,))\n",
      "      (2): Dropout(p=0.1, inplace=False)\n",
      "      (3): Flatten(start_dim=1, end_dim=-1)\n",
      "      (4): Linear(in_features=1000, out_features=1000, bias=True)\n",
      "      (5): ReLU(inplace=True)\n",
      "    )\n",
      "  )\n",
      "  (pattern_custom): Sequential(\n",
      "    (0): Dropout(p=0.1, inplace=False)\n",
      "    (1): Linear(in_features=2200, out_features=1, bias=True)\n",
      "    (2): Sigmoid()\n",
      "  )\n",
      ")\n"
     ]
    }
   ],
   "source": [
    "# Create pattern-custom model and redirect to device\n",
    "model_cnn = PatternCustomCNN(pattern_cnn, custom_cnn, linear_size, dropout[0])\n",
    "model_cnn.to(DEVICE)\n",
    "\n",
    "# Model structure\n",
    "print(str(model_cnn))"
   ]
  },
  {
   "cell_type": "code",
   "execution_count": 52,
   "metadata": {},
   "outputs": [
    {
     "name": "stdout",
     "output_type": "stream",
     "text": [
      "Epoch 1/15\t| train loss: 0.10008702574721358 | val loss: 0.09563692044928197 | train accuracy: 0.9790377860261388 | val accuracy: 0.9797711947874839\n",
      "Epoch 2/15\t| train loss: 0.08749342046686508 | val loss: 0.08879275146666617 | train accuracy: 0.9792226630828961 | val accuracy: 0.9797711947874839\n",
      "Epoch 3/15\t| train loss: 0.08072464644691199 | val loss: 0.07941359860203182 | train accuracy: 0.9792226630828961 | val accuracy: 0.9797711947874839\n",
      "Epoch 4/15\t| train loss: 0.07422052520094778 | val loss: 0.07397388209843477 | train accuracy: 0.9792226630828961 | val accuracy: 0.9797711947874839\n",
      "Epoch 5/15\t| train loss: 0.0689324008405564 | val loss: 0.07334663682678 | train accuracy: 0.9792321439576015 | val accuracy: 0.9797711947874839\n",
      "Epoch 6/15\t| train loss: 0.06794987835164712 | val loss: 0.07334663682678 | train accuracy: 0.9793459144540675 | val accuracy: 0.9797711947874839\n",
      "Epoch 7/15\t| train loss: 0.06687542617344377 | val loss: 0.07272096642844322 | train accuracy: 0.979563974572294 | val accuracy: 0.9809834078339268\n",
      "Epoch 8/15\t| train loss: 0.0670684177068751 | val loss: 0.0708059770082563 | train accuracy: 0.9805168024801968 | val accuracy: 0.9812864610955375\n",
      "Epoch 9/15\t| train loss: 0.06659555033921385 | val loss: 0.0726586290438941 | train accuracy: 0.9811046167119378 | val accuracy: 0.9828774907189939\n",
      "Epoch 10/15\t| train loss: 0.06635307563107475 | val loss: 0.06955875289649069 | train accuracy: 0.9814648899507469 | val accuracy: 0.9834078339268126\n",
      "Epoch 11/15\t| train loss: 0.06430317944897514 | val loss: 0.06565345056339195 | train accuracy: 0.9820574446198407 | val accuracy: 0.9837866505038261\n",
      "Epoch 12/15\t| train loss: 0.06067626635050238 | val loss: 0.06456846489015515 | train accuracy: 0.9830576769012709 | val accuracy: 0.9841654670808394\n",
      "Epoch 13/15\t| train loss: 0.05623503664723325 | val loss: 0.06458381649543649 | train accuracy: 0.9839346578115297 | val accuracy: 0.9835593605576181\n",
      "Epoch 14/15\t| train loss: 0.050632757639934294 | val loss: 0.06397818393496701 | train accuracy: 0.9852714611450052 | val accuracy: 0.9848473369194636\n",
      "Epoch 15/15\t| train loss: 0.0461927902439082 | val loss: 0.06416523959448163 | train accuracy: 0.9861247398685002 | val accuracy: 0.984998863550269\n"
     ]
    }
   ],
   "source": [
    "# Check if exist trained model\n",
    "if not os.path.isfile('./pattern_custom.pth'):\n",
    "    # Run model training with hyperparameter\n",
    "    cnn_train_losses, cnn_val_losses, cnn_train_accuracies, cnn_val_accuracies = run_model(train_dl, val_dl, model_cnn, DEVICE, epochs, learning_rate[1], learning_rate_update[0])\n",
    "    # Save trained model\n",
    "    torch.save(model_cnn.state_dict(), './pattern_custom.pth')\n",
    "else:\n",
    "    # Load trained model\n",
    "    model_cnn.load_state_dict(torch.load('./pattern_custom.pth'))"
   ]
  },
  {
   "cell_type": "markdown",
   "metadata": {},
   "source": [
    "# Model performance"
   ]
  },
  {
   "cell_type": "markdown",
   "metadata": {},
   "source": [
    "## Prediction utilities"
   ]
  },
  {
   "cell_type": "code",
   "execution_count": 55,
   "metadata": {},
   "outputs": [],
   "source": [
    "# Get batch model predictions\n",
    "def predict_batch(model, xb, yb):\n",
    "    # Model predictions for input\n",
    "    xb_out = model(xb.float())\n",
    "    \n",
    "    # Numpy label probabilities, predicted labels and true labels\n",
    "    np_xb_prob = xb_out.detach().cpu().numpy()\n",
    "    np_xb_out = xb_out.detach().cpu().numpy().round().astype(int)\n",
    "    np_yb = yb.detach().cpu().numpy().round().astype(int)\n",
    "\n",
    "    # Predicted labels and true labels on batch\n",
    "    return np_xb_prob, np_xb_out, np_yb"
   ]
  },
  {
   "cell_type": "code",
   "execution_count": 56,
   "metadata": {},
   "outputs": [],
   "source": [
    "# Calculate predictions\n",
    "def predict(model, dl, device):\n",
    "    # Set model to evaluation mode\n",
    "    model.eval()\n",
    "    \n",
    "    # Disable gradient calculation\n",
    "    with torch.no_grad():\n",
    "        # Predicted labels, true labels\n",
    "        lp, pl, tl = [], [], []\n",
    "        \n",
    "        # Loop over batches\n",
    "        for xb, yb in dl:\n",
    "            # Put validation on GPU\n",
    "            xb, yb = xb.to(device),yb.to(device)\n",
    "\n",
    "            # Not provide optimizer to deny backpropagation\n",
    "            l, p, t = predict_batch(model, xb, yb)\n",
    "\n",
    "            # Label probabilities, predicted labels, true labels per batch\n",
    "            lp.extend(l), pl.extend(p); tl.extend(t)\n",
    "\n",
    "    # Predicted labels and true labels on dataset\n",
    "    return lp, pl, tl"
   ]
  },
  {
   "cell_type": "markdown",
   "metadata": {},
   "source": [
    "## Learning curve"
   ]
  },
  {
   "cell_type": "code",
   "execution_count": 58,
   "metadata": {},
   "outputs": [],
   "source": [
    "# Module for plots\n",
    "import matplotlib.pyplot as plt"
   ]
  },
  {
   "cell_type": "code",
   "execution_count": 59,
   "metadata": {},
   "outputs": [],
   "source": [
    "# Plot train and val loss over epochs\n",
    "def loss_plot(data_label_list, loss_type='Binary Cross Entropy Loss'):\n",
    "    # Plot loss by epoch for each train/validation loss trajectory\n",
    "    for i, (train_data, val_data, label) in enumerate(data_label_list):    \n",
    "        plt.plot(train_data, linestyle='--', color=f'C{i}', label=f'{label} Train')\n",
    "        plt.plot(val_data, color=f'C{i}', label=f'{label} Validation', linewidth=3.0)\n",
    "\n",
    "    # Plot features\n",
    "    plt.legend()\n",
    "    plt.title('Learning Curve')\n",
    "    plt.ylabel(loss_type)\n",
    "    plt.xlabel('Epoch')\n",
    "    plt.legend(loc='upper right')\n",
    "    plt.show()"
   ]
  },
  {
   "cell_type": "code",
   "execution_count": 60,
   "metadata": {},
   "outputs": [
    {
     "data": {
      "image/png": "[encoded data removed]",
      "text/plain": [
       "<Figure size 640x480 with 1 Axes>"
      ]
     },
     "metadata": {},
     "output_type": "display_data"
    }
   ],
   "source": [
    "# Plot learning curve\n",
    "cnn_data_label = (cnn_train_losses, cnn_val_losses, 'CNN')\n",
    "loss_plot([cnn_data_label])"
   ]
  },
  {
   "cell_type": "markdown",
   "metadata": {},
   "source": [
    "## Accuracy curve"
   ]
  },
  {
   "cell_type": "code",
   "execution_count": 62,
   "metadata": {},
   "outputs": [],
   "source": [
    "# Plot train and validation accuracy over epochs\n",
    "def accuracy_plot(data_label_list, accuracy_type='Accuracy'):\n",
    "    # Plot accuracy by epoch for each train/validation accuracy trajectory\n",
    "    for i,(train_data, val_data,label) in enumerate(data_label_list):    \n",
    "        plt.plot(train_data, linestyle='--',color=f'C{i}', label=f'{label} Train')\n",
    "        plt.plot(val_data, color=f'C{i}', label=f'{label} Validation', linewidth=3.0)\n",
    "\n",
    "    # Plot features\n",
    "    plt.legend()\n",
    "    plt.title('Accuracy Curve')\n",
    "    plt.ylabel(accuracy_type)\n",
    "    plt.xlabel('Epoch')\n",
    "    plt.legend(loc='upper right')\n",
    "    plt.show()"
   ]
  },
  {
   "cell_type": "code",
   "execution_count": 63,
   "metadata": {},
   "outputs": [
    {
     "data": {
      "image/png": "[encoded data removed]",
      "text/plain": [
       "<Figure size 640x480 with 1 Axes>"
      ]
     },
     "metadata": {},
     "output_type": "display_data"
    }
   ],
   "source": [
    "# Plot accuracy curve\n",
    "cnn_data_label = (cnn_train_accuracies, cnn_val_accuracies, 'CNN')\n",
    "accuracy_plot([cnn_data_label])"
   ]
  },
  {
   "cell_type": "markdown",
   "metadata": {},
   "source": [
    "## Model accuracy"
   ]
  },
  {
   "cell_type": "code",
   "execution_count": 65,
   "metadata": {},
   "outputs": [],
   "source": [
    "def compute_accuracy(pred_labels, true_labels):\n",
    "    # Flatten lists of arrays\n",
    "    pred_flat = np.concatenate(pred_labels)\n",
    "    true_flat = np.concatenate(true_labels)\n",
    "\n",
    "    # Calculate equality\n",
    "    tot_sum = np.sum(pred_flat == true_flat)\n",
    "    tot_len = len(true_flat)\n",
    "\n",
    "    # Calculate accuracy\n",
    "    accuracy = tot_sum / tot_len\n",
    "\n",
    "    # Model accuracy\n",
    "    return accuracy"
   ]
  },
  {
   "cell_type": "code",
   "execution_count": 66,
   "metadata": {},
   "outputs": [
    {
     "name": "stdout",
     "output_type": "stream",
     "text": [
      "Train accuracy: 0.9891918028357296\n"
     ]
    }
   ],
   "source": [
    "# Accuracy over train set\n",
    "train_prob, train_pred, train_true = predict(model_cnn, train_dl, DEVICE)\n",
    "train_accuracy = compute_accuracy(train_pred, train_true)\n",
    "\n",
    "# Print train accuracy\n",
    "print(f'Train accuracy: {train_accuracy}')"
   ]
  },
  {
   "cell_type": "code",
   "execution_count": 67,
   "metadata": {},
   "outputs": [
    {
     "name": "stdout",
     "output_type": "stream",
     "text": [
      "Validation accuracy: 0.984998863550269\n"
     ]
    }
   ],
   "source": [
    "# Accuracy over validation set\n",
    "val_prob, val_pred, val_true = predict(model_cnn, val_dl, DEVICE)\n",
    "val_accuracy = compute_accuracy(val_pred, val_true)\n",
    "\n",
    "# Print validation accuracy\n",
    "print(f'Validation accuracy: {val_accuracy}')"
   ]
  },
  {
   "cell_type": "code",
   "execution_count": 68,
   "metadata": {},
   "outputs": [
    {
     "name": "stdout",
     "output_type": "stream",
     "text": [
      "Test accuracy: 0.9845839172758608\n"
     ]
    }
   ],
   "source": [
    "# Accuracy over test set\n",
    "test_prob, test_pred, test_true = predict(model_cnn, test_dl, DEVICE)\n",
    "test_accuracy = compute_accuracy(test_pred, test_true)\n",
    "\n",
    "# Print test accuracy\n",
    "print(f'Test accuracy: {test_accuracy}')"
   ]
  },
  {
   "cell_type": "markdown",
   "metadata": {},
   "source": [
    "## Confusion matrix"
   ]
  },
  {
   "cell_type": "markdown",
   "metadata": {},
   "source": [
    "### Train dataset"
   ]
  },
  {
   "cell_type": "code",
   "execution_count": 71,
   "metadata": {},
   "outputs": [],
   "source": [
    "# Module for confusion matrix\n",
    "from sklearn.metrics import confusion_matrix, ConfusionMatrixDisplay, classification_report"
   ]
  },
  {
   "cell_type": "code",
   "execution_count": 72,
   "metadata": {},
   "outputs": [
    {
     "name": "stdout",
     "output_type": "stream",
     "text": [
      "              precision    recall  f1-score   support\n",
      "\n",
      "           0       0.99      1.00      0.99    206568\n",
      "           1       0.96      0.50      0.66      4383\n",
      "\n",
      "    accuracy                           0.99    210951\n",
      "   macro avg       0.98      0.75      0.83    210951\n",
      "weighted avg       0.99      0.99      0.99    210951\n",
      "\n"
     ]
    },
    {
     "data": {
      "image/png": "[encoded data removed]",
      "text/plain": [
       "<Figure size 640x480 with 2 Axes>"
      ]
     },
     "metadata": {},
     "output_type": "display_data"
    }
   ],
   "source": [
    "# Plot confusion matrix on train dataset\n",
    "print(classification_report(train_true, train_pred, zero_division=0))\n",
    "cm = confusion_matrix(train_true, train_pred, labels=[0, 1])\n",
    "disp = ConfusionMatrixDisplay(confusion_matrix=cm, display_labels=[0, 1])\n",
    "disp.plot()\n",
    "plt.show()"
   ]
  },
  {
   "cell_type": "markdown",
   "metadata": {},
   "source": [
    "### Validation dataset"
   ]
  },
  {
   "cell_type": "code",
   "execution_count": 74,
   "metadata": {},
   "outputs": [
    {
     "name": "stdout",
     "output_type": "stream",
     "text": [
      "              precision    recall  f1-score   support\n",
      "\n",
      "           0       0.99      1.00      0.99     25864\n",
      "           1       0.88      0.30      0.45       534\n",
      "\n",
      "    accuracy                           0.98     26398\n",
      "   macro avg       0.93      0.65      0.72     26398\n",
      "weighted avg       0.98      0.98      0.98     26398\n",
      "\n"
     ]
    },
    {
     "data": {
      "image/png": "[encoded data removed]",
      "text/plain": [
       "<Figure size 640x480 with 2 Axes>"
      ]
     },
     "metadata": {},
     "output_type": "display_data"
    }
   ],
   "source": [
    "# Plot confusion matrix on validation dataset\n",
    "print(classification_report(val_true, val_pred, zero_division=0))\n",
    "cm = confusion_matrix(val_true, val_pred, labels=[0, 1])\n",
    "disp = ConfusionMatrixDisplay(confusion_matrix=cm, display_labels=[0, 1])\n",
    "disp.plot()\n",
    "plt.show()"
   ]
  },
  {
   "cell_type": "markdown",
   "metadata": {},
   "source": [
    "### Test dataset"
   ]
  },
  {
   "cell_type": "code",
   "execution_count": 76,
   "metadata": {},
   "outputs": [
    {
     "name": "stdout",
     "output_type": "stream",
     "text": [
      "              precision    recall  f1-score   support\n",
      "\n",
      "           0       0.99      1.00      0.99     25852\n",
      "           1       0.84      0.32      0.46       549\n",
      "\n",
      "    accuracy                           0.98     26401\n",
      "   macro avg       0.91      0.66      0.73     26401\n",
      "weighted avg       0.98      0.98      0.98     26401\n",
      "\n"
     ]
    },
    {
     "data": {
      "image/png": "[encoded data removed]",
      "text/plain": [
       "<Figure size 640x480 with 2 Axes>"
      ]
     },
     "metadata": {},
     "output_type": "display_data"
    }
   ],
   "source": [
    "# Plot confusion matrix on test dataset\n",
    "print(classification_report(test_true, test_pred, zero_division=0))\n",
    "cm = confusion_matrix(test_true, test_pred, labels=[0, 1])\n",
    "disp = ConfusionMatrixDisplay(confusion_matrix=cm, display_labels=[0, 1])\n",
    "disp.plot()\n",
    "plt.show()"
   ]
  },
  {
   "cell_type": "markdown",
   "metadata": {},
   "source": [
    "## True and predicted labels"
   ]
  },
  {
   "cell_type": "code",
   "execution_count": 78,
   "metadata": {},
   "outputs": [],
   "source": [
    "# Count labels per classes\n",
    "def count_labels(labels):\n",
    "    labels_count = {0: 0, 1: 0}\n",
    "    for v in labels:\n",
    "        if v[0] == 0:\n",
    "            labels_count[0] = labels_count[0] + 1\n",
    "        elif v[0] == 1:\n",
    "            labels_count[1] = labels_count[1] + 1\n",
    "\n",
    "    # Count per class\n",
    "    return labels_count"
   ]
  },
  {
   "cell_type": "markdown",
   "metadata": {},
   "source": [
    "### Predicted labels"
   ]
  },
  {
   "cell_type": "code",
   "execution_count": 80,
   "metadata": {},
   "outputs": [
    {
     "name": "stdout",
     "output_type": "stream",
     "text": [
      "Train predict 0: 208670\n",
      "Train predict 1: 2281\n"
     ]
    }
   ],
   "source": [
    "# Count predicted labels over train set\n",
    "train_pred_count = count_labels(train_pred)\n",
    "print(f'Train predict 0: {train_pred_count[0]}')\n",
    "print(f'Train predict 1: {train_pred_count[1]}')"
   ]
  },
  {
   "cell_type": "code",
   "execution_count": 81,
   "metadata": {},
   "outputs": [
    {
     "name": "stdout",
     "output_type": "stream",
     "text": [
      "Validation predict 0: 26214\n",
      "Validation predict 1: 184\n"
     ]
    }
   ],
   "source": [
    "# Count predicted labels over validation set\n",
    "val_pred_count = count_labels(val_pred)\n",
    "print(f'Validation predict 0: {val_pred_count[0]}')\n",
    "print(f'Validation predict 1: {val_pred_count[1]}')"
   ]
  },
  {
   "cell_type": "code",
   "execution_count": 82,
   "metadata": {},
   "outputs": [
    {
     "name": "stdout",
     "output_type": "stream",
     "text": [
      "Test predict 0: 26191\n",
      "Test predict 1: 210\n"
     ]
    }
   ],
   "source": [
    "# Count predicted labels over test set\n",
    "test_pred_count = count_labels(test_pred)\n",
    "print(f'Test predict 0: {test_pred_count[0]}')\n",
    "print(f'Test predict 1: {test_pred_count[1]}')"
   ]
  },
  {
   "cell_type": "markdown",
   "metadata": {},
   "source": [
    "### True labels"
   ]
  },
  {
   "cell_type": "code",
   "execution_count": 84,
   "metadata": {},
   "outputs": [
    {
     "name": "stdout",
     "output_type": "stream",
     "text": [
      "Train true 0: 206568\n",
      "Train true 1: 4383\n"
     ]
    }
   ],
   "source": [
    "# Count true labels over train set\n",
    "train_true_count = count_labels(train_true)\n",
    "print(f'Train true 0: {train_true_count[0]}')\n",
    "print(f'Train true 1: {train_true_count[1]}')"
   ]
  },
  {
   "cell_type": "code",
   "execution_count": 85,
   "metadata": {},
   "outputs": [
    {
     "name": "stdout",
     "output_type": "stream",
     "text": [
      "Validation true 0: 25864\n",
      "Validation true 1: 534\n"
     ]
    }
   ],
   "source": [
    "# Count true labels over validation set\n",
    "val_true_count = count_labels(val_true)\n",
    "print(f'Validation true 0: {val_true_count[0]}')\n",
    "print(f'Validation true 1: {val_true_count[1]}')"
   ]
  },
  {
   "cell_type": "code",
   "execution_count": 86,
   "metadata": {},
   "outputs": [
    {
     "name": "stdout",
     "output_type": "stream",
     "text": [
      "Test true 0: 25852\n",
      "Test true 1: 549\n"
     ]
    }
   ],
   "source": [
    "# Count true labels over test set\n",
    "test_true_count = count_labels(test_true)\n",
    "print(f'Test true 0: {test_true_count[0]}')\n",
    "print(f'Test true 1: {test_true_count[1]}')"
   ]
  },
  {
   "cell_type": "markdown",
   "metadata": {},
   "source": [
    "## ROC curve"
   ]
  },
  {
   "cell_type": "code",
   "execution_count": 88,
   "metadata": {},
   "outputs": [],
   "source": [
    "# Module for ROC curve\n",
    "from sklearn.metrics import roc_curve, auc, roc_auc_score"
   ]
  },
  {
   "cell_type": "code",
   "execution_count": 89,
   "metadata": {},
   "outputs": [
    {
     "name": "stdout",
     "output_type": "stream",
     "text": [
      "Precise AUROC: 0.922000\n"
     ]
    },
    {
     "data": {
      "image/png": "[encoded data removed]",
      "text/plain": [
       "<Figure size 640x480 with 1 Axes>"
      ]
     },
     "metadata": {},
     "output_type": "display_data"
    }
   ],
   "source": [
    "# ROC curve over test dataset\n",
    "fpr, tpr, thresholds = roc_curve(test_true, test_prob)\n",
    "\n",
    "# Calculate AUROC\n",
    "roc_auc = auc(fpr, tpr)\n",
    "print(f'Precise AUROC: {roc_auc:.6f}')\n",
    "\n",
    "# Plot ROC curve and AUROC\n",
    "plt.figure()\n",
    "plt.plot(fpr, tpr, color='darkorange', lw=2, label=f'ROC curve (AUROC = {roc_auc:.2f})')\n",
    "plt.plot([0, 1], [0, 1], color='navy', linestyle='--')\n",
    "plt.xlim([0.0, 1.0])\n",
    "plt.ylim([0.0, 1.05])\n",
    "plt.xlabel('False Positive Rate')\n",
    "plt.ylabel('True Positive Rate')\n",
    "plt.title('ROC Curve')\n",
    "plt.legend(loc='lower right')\n",
    "plt.show()"
   ]
  },
  {
   "cell_type": "markdown",
   "metadata": {},
   "source": [
    "# Model validation"
   ]
  },
  {
   "cell_type": "code",
   "execution_count": 91,
   "metadata": {},
   "outputs": [
    {
     "name": "stdout",
     "output_type": "stream",
     "text": [
      "pattern_custom_do_1_lr_01_up.pth does not exist.\n",
      "Epoch 1/15\t| train loss: 2.077235607051357 | val loss: 2.02288052125161 | train accuracy: 0.9787581002223266 | val accuracy: 0.9797711947874839\n",
      "Epoch 2/15\t| train loss: 2.0777336917103972 | val loss: 2.02288052125161 | train accuracy: 0.9792226630828961 | val accuracy: 0.9797711947874839\n",
      "Epoch 3/15\t| train loss: 2.0777336917103972 | val loss: 2.02288052125161 | train accuracy: 0.9792226630828961 | val accuracy: 0.9797711947874839\n",
      "Epoch 4/15\t| train loss: 2.0777336917103972 | val loss: 2.02288052125161 | train accuracy: 0.9792226630828961 | val accuracy: 0.9797711947874839\n",
      "Epoch 5/15\t| train loss: 2.0777336917103972 | val loss: 2.02288052125161 | train accuracy: 0.9792226630828961 | val accuracy: 0.9797711947874839\n",
      "Epoch 6/15\t| train loss: 2.0777336917103972 | val loss: 2.02288052125161 | train accuracy: 0.9792226630828961 | val accuracy: 0.9797711947874839\n",
      "Epoch 7/15\t| train loss: 2.0777336917103972 | val loss: 2.02288052125161 | train accuracy: 0.9792226630828961 | val accuracy: 0.9797711947874839\n",
      "Epoch 8/15\t| train loss: 2.0777336917103972 | val loss: 2.02288052125161 | train accuracy: 0.9792226630828961 | val accuracy: 0.9797711947874839\n",
      "Epoch 9/15\t| train loss: 2.0777336917103972 | val loss: 2.02288052125161 | train accuracy: 0.9792226630828961 | val accuracy: 0.9797711947874839\n",
      "Epoch 10/15\t| train loss: 2.0777336917103972 | val loss: 2.02288052125161 | train accuracy: 0.9792226630828961 | val accuracy: 0.9797711947874839\n",
      "Epoch 11/15\t| train loss: 2.0777336917103972 | val loss: 2.02288052125161 | train accuracy: 0.9792226630828961 | val accuracy: 0.9797711947874839\n",
      "Epoch 12/15\t| train loss: 2.0777336917103972 | val loss: 2.02288052125161 | train accuracy: 0.9792226630828961 | val accuracy: 0.9797711947874839\n",
      "Epoch 13/15\t| train loss: 2.0777336917103972 | val loss: 2.02288052125161 | train accuracy: 0.9792226630828961 | val accuracy: 0.9797711947874839\n",
      "Epoch 14/15\t| train loss: 2.0777336917103972 | val loss: 2.02288052125161 | train accuracy: 0.9792226630828961 | val accuracy: 0.9797711947874839\n",
      "Epoch 15/15\t| train loss: 2.0777336917103972 | val loss: 2.02288052125161 | train accuracy: 0.9792226630828961 | val accuracy: 0.9797711947874839\n",
      "\n",
      "pattern_custom_do_1_lr_001_up.pth does not exist.\n",
      "Epoch 1/15\t| train loss: 0.10059583708350942 | val loss: 0.0973799899195065 | train accuracy: 0.978634848851155 | val accuracy: 0.9797711947874839\n",
      "Epoch 2/15\t| train loss: 0.08758871751554964 | val loss: 0.08885128308417527 | train accuracy: 0.9792226630828961 | val accuracy: 0.9797711947874839\n",
      "Epoch 3/15\t| train loss: 0.08096506568160931 | val loss: 0.07912987415223051 | train accuracy: 0.9792226630828961 | val accuracy: 0.9797711947874839\n",
      "Epoch 4/15\t| train loss: 0.0748934144320526 | val loss: 0.07464592578725698 | train accuracy: 0.9792226630828961 | val accuracy: 0.9797711947874839\n",
      "Epoch 5/15\t| train loss: 0.06993973753809804 | val loss: 0.07398269237097091 | train accuracy: 0.9792226630828961 | val accuracy: 0.9797711947874839\n",
      "Epoch 6/15\t| train loss: 0.06945009162216828 | val loss: 0.07398269237097091 | train accuracy: 0.9792511057070126 | val accuracy: 0.9797711947874839\n",
      "Epoch 7/15\t| train loss: 0.06810085918180953 | val loss: 0.07298830499009898 | train accuracy: 0.9794549445131808 | val accuracy: 0.9804909462838094\n",
      "Epoch 8/15\t| train loss: 0.06801850679076209 | val loss: 0.07086594891376329 | train accuracy: 0.9800901631184493 | val accuracy: 0.9810212894916281\n",
      "Epoch 9/15\t| train loss: 0.06767281801402274 | val loss: 0.07126292601412346 | train accuracy: 0.9805831686031353 | val accuracy: 0.982119857564967\n",
      "Epoch 10/15\t| train loss: 0.06728923199188985 | val loss: 0.06896162396888858 | train accuracy: 0.9810951358372323 | val accuracy: 0.9826123191150845\n",
      "Epoch 11/15\t| train loss: 0.06548444877975547 | val loss: 0.06705960838753693 | train accuracy: 0.9818725675630834 | val accuracy: 0.9833320706114099\n",
      "Epoch 12/15\t| train loss: 0.06189843126174451 | val loss: 0.0690651519239712 | train accuracy: 0.9824840839815882 | val accuracy: 0.9838624138192287\n",
      "Epoch 13/15\t| train loss: 0.05673583160466737 | val loss: 0.06491865670561499 | train accuracy: 0.9839346578115297 | val accuracy: 0.9841275854231382\n",
      "Epoch 14/15\t| train loss: 0.05077819105750961 | val loss: 0.06600733830740503 | train accuracy: 0.9850723627761897 | val accuracy: 0.9845442836578528\n",
      "Epoch 15/15\t| train loss: 0.04744349827100171 | val loss: 0.06521486696626372 | train accuracy: 0.98607259505762 | val accuracy: 0.9848473369194636\n",
      "\n",
      "pattern_custom_do_1_lr_0001_up.pth does not exist.\n",
      "Epoch 1/15\t| train loss: 0.10270350606799061 | val loss: 0.09846228256771393 | train accuracy: 0.9788860920308508 | val accuracy: 0.9797711947874839\n",
      "Epoch 2/15\t| train loss: 0.09952262912982494 | val loss: 0.09507942965128732 | train accuracy: 0.9792226630828961 | val accuracy: 0.9797711947874839\n",
      "Epoch 3/15\t| train loss: 0.09636427708795442 | val loss: 0.09263374355951645 | train accuracy: 0.9792226630828961 | val accuracy: 0.9797711947874839\n",
      "Epoch 4/15\t| train loss: 0.09347942605836536 | val loss: 0.09135204312105176 | train accuracy: 0.9792226630828961 | val accuracy: 0.9797711947874839\n",
      "Epoch 5/15\t| train loss: 0.09250096052547724 | val loss: 0.08959396036471758 | train accuracy: 0.9792226630828961 | val accuracy: 0.9797711947874839\n",
      "Epoch 6/15\t| train loss: 0.09244877861557893 | val loss: 0.08959396036471758 | train accuracy: 0.9792226630828961 | val accuracy: 0.9797711947874839\n",
      "Epoch 7/15\t| train loss: 0.09175469479135157 | val loss: 0.08902795481400938 | train accuracy: 0.9792226630828961 | val accuracy: 0.9797711947874839\n",
      "Epoch 8/15\t| train loss: 0.09136215122966754 | val loss: 0.09002037832155148 | train accuracy: 0.9792226630828961 | val accuracy: 0.9797711947874839\n",
      "Epoch 9/15\t| train loss: 0.09085801435885674 | val loss: 0.08708569741113496 | train accuracy: 0.9792226630828961 | val accuracy: 0.9797711947874839\n",
      "Epoch 10/15\t| train loss: 0.08975287498386757 | val loss: 0.08601997930468194 | train accuracy: 0.9792226630828961 | val accuracy: 0.9797711947874839\n",
      "Epoch 11/15\t| train loss: 0.08810596142727212 | val loss: 0.08443233802227647 | train accuracy: 0.9792179226455433 | val accuracy: 0.9797711947874839\n",
      "Epoch 12/15\t| train loss: 0.08690235476483966 | val loss: 0.08372859070160094 | train accuracy: 0.9792226630828961 | val accuracy: 0.9797711947874839\n",
      "Epoch 13/15\t| train loss: 0.0853339056058785 | val loss: 0.08318263598105922 | train accuracy: 0.9792226630828961 | val accuracy: 0.9797333131297825\n",
      "Epoch 14/15\t| train loss: 0.08432597202438485 | val loss: 0.08408060677293684 | train accuracy: 0.9792084417708378 | val accuracy: 0.9797333131297825\n",
      "Epoch 15/15\t| train loss: 0.08364267140865947 | val loss: 0.08212957955703237 | train accuracy: 0.9792131822081905 | val accuracy: 0.9797333131297825\n",
      "\n",
      "pattern_custom_do_5_lr_01_up.pth does not exist.\n",
      "Epoch 1/15\t| train loss: 2.0772467183555694 | val loss: 2.02288052125161 | train accuracy: 0.9786585510379188 | val accuracy: 0.9797711947874839\n",
      "Epoch 2/15\t| train loss: 2.0777336917103972 | val loss: 2.02288052125161 | train accuracy: 0.9792226630828961 | val accuracy: 0.9797711947874839\n",
      "Epoch 3/15\t| train loss: 2.0777336917103972 | val loss: 2.02288052125161 | train accuracy: 0.9792226630828961 | val accuracy: 0.9797711947874839\n",
      "Epoch 4/15\t| train loss: 2.0777336917103972 | val loss: 2.02288052125161 | train accuracy: 0.9792226630828961 | val accuracy: 0.9797711947874839\n",
      "Epoch 5/15\t| train loss: 2.0777336917103972 | val loss: 2.02288052125161 | train accuracy: 0.9792226630828961 | val accuracy: 0.9797711947874839\n",
      "Epoch 6/15\t| train loss: 2.0777336917103972 | val loss: 2.02288052125161 | train accuracy: 0.9792226630828961 | val accuracy: 0.9797711947874839\n",
      "Epoch 7/15\t| train loss: 2.0777336917103972 | val loss: 2.02288052125161 | train accuracy: 0.9792226630828961 | val accuracy: 0.9797711947874839\n",
      "Epoch 8/15\t| train loss: 2.0777336917103972 | val loss: 2.02288052125161 | train accuracy: 0.9792226630828961 | val accuracy: 0.9797711947874839\n",
      "Epoch 9/15\t| train loss: 2.0777336917103972 | val loss: 2.02288052125161 | train accuracy: 0.9792226630828961 | val accuracy: 0.9797711947874839\n",
      "Epoch 10/15\t| train loss: 2.0777336917103972 | val loss: 2.02288052125161 | train accuracy: 0.9792226630828961 | val accuracy: 0.9797711947874839\n",
      "Epoch 11/15\t| train loss: 2.0777336917103972 | val loss: 2.02288052125161 | train accuracy: 0.9792226630828961 | val accuracy: 0.9797711947874839\n",
      "Epoch 12/15\t| train loss: 2.0777336917103972 | val loss: 2.02288052125161 | train accuracy: 0.9792226630828961 | val accuracy: 0.9797711947874839\n",
      "Epoch 13/15\t| train loss: 2.0777336917103972 | val loss: 2.02288052125161 | train accuracy: 0.9792226630828961 | val accuracy: 0.9797711947874839\n",
      "Epoch 14/15\t| train loss: 2.0777336917103972 | val loss: 2.02288052125161 | train accuracy: 0.9792226630828961 | val accuracy: 0.9797711947874839\n",
      "Epoch 15/15\t| train loss: 2.0777336917103972 | val loss: 2.02288052125161 | train accuracy: 0.9792226630828961 | val accuracy: 0.9797711947874839\n",
      "\n",
      "pattern_custom_do_5_lr_001_up.pth does not exist.\n",
      "Epoch 1/15\t| train loss: 0.10133483620003833 | val loss: 0.09274822180504076 | train accuracy: 0.97872965759821 | val accuracy: 0.9797711947874839\n",
      "Epoch 2/15\t| train loss: 0.08808416578202231 | val loss: 0.08516778691988391 | train accuracy: 0.9792226630828961 | val accuracy: 0.9797711947874839\n",
      "Epoch 3/15\t| train loss: 0.0812353023373506 | val loss: 0.07900673605761878 | train accuracy: 0.9792226630828961 | val accuracy: 0.9797711947874839\n",
      "Epoch 4/15\t| train loss: 0.07457932787712464 | val loss: 0.0748696514974095 | train accuracy: 0.9792179226455433 | val accuracy: 0.9797711947874839\n",
      "Epoch 5/15\t| train loss: 0.06996794510233649 | val loss: 0.07415315206577172 | train accuracy: 0.9792274035202487 | val accuracy: 0.9797711947874839\n",
      "Epoch 6/15\t| train loss: 0.06804156491568673 | val loss: 0.07415315206577172 | train accuracy: 0.9792653270190708 | val accuracy: 0.9797711947874839\n",
      "Epoch 7/15\t| train loss: 0.06749535614837937 | val loss: 0.07346318249855789 | train accuracy: 0.979355395328773 | val accuracy: 0.9802636563376014\n",
      "Epoch 8/15\t| train loss: 0.06773255423714292 | val loss: 0.07176761362365507 | train accuracy: 0.979753592066404 | val accuracy: 0.9804909462838094\n",
      "Epoch 9/15\t| train loss: 0.06869054382582701 | val loss: 0.07136076102510949 | train accuracy: 0.9802134144896208 | val accuracy: 0.9817410409879537\n",
      "Epoch 10/15\t| train loss: 0.06818815068747612 | val loss: 0.07403256572614778 | train accuracy: 0.9807727860972454 | val accuracy: 0.9829153723766952\n",
      "Epoch 11/15\t| train loss: 0.06630864121639972 | val loss: 0.07425730711585672 | train accuracy: 0.9813368981422226 | val accuracy: 0.9832941889537086\n",
      "Epoch 12/15\t| train loss: 0.06355005670109384 | val loss: 0.06654262959635933 | train accuracy: 0.9820479637451351 | val accuracy: 0.9831805439806046\n",
      "Epoch 13/15\t| train loss: 0.05954967639557941 | val loss: 0.06534235694357682 | train accuracy: 0.9829533872795104 | val accuracy: 0.9838624138192287\n",
      "Epoch 14/15\t| train loss: 0.05366460657943856 | val loss: 0.06526969710503376 | train accuracy: 0.9841147944309342 | val accuracy: 0.9840897037654368\n",
      "Epoch 15/15\t| train loss: 0.04843484179804791 | val loss: 0.06550113905570637 | train accuracy: 0.9855511469488175 | val accuracy: 0.9842791120539435\n",
      "\n",
      "pattern_custom_do_5_lr_0001_up.pth does not exist.\n",
      "Epoch 1/15\t| train loss: 0.10317762229283291 | val loss: 0.09978325294528426 | train accuracy: 0.9790472669008443 | val accuracy: 0.9797711947874839\n",
      "Epoch 2/15\t| train loss: 0.10043366755826018 | val loss: 0.09810183852494973 | train accuracy: 0.9792226630828961 | val accuracy: 0.9797711947874839\n",
      "Epoch 3/15\t| train loss: 0.09834544000932084 | val loss: 0.09606896285781924 | train accuracy: 0.9792226630828961 | val accuracy: 0.9797711947874839\n",
      "Epoch 4/15\t| train loss: 0.09627980944081702 | val loss: 0.09364329453923795 | train accuracy: 0.9792226630828961 | val accuracy: 0.9797711947874839\n",
      "Epoch 5/15\t| train loss: 0.09518983441024026 | val loss: 0.09201842784603302 | train accuracy: 0.9792226630828961 | val accuracy: 0.9797711947874839\n",
      "Epoch 6/15\t| train loss: 0.09502445674818343 | val loss: 0.09201842784603302 | train accuracy: 0.9792226630828961 | val accuracy: 0.9797711947874839\n",
      "Epoch 7/15\t| train loss: 0.09456958625765825 | val loss: 0.0916255096156926 | train accuracy: 0.9792226630828961 | val accuracy: 0.9797711947874839\n",
      "Epoch 8/15\t| train loss: 0.09422040901227917 | val loss: 0.09266324617017742 | train accuracy: 0.9792226630828961 | val accuracy: 0.9797711947874839\n",
      "Epoch 9/15\t| train loss: 0.09306273630057885 | val loss: 0.09037573155515555 | train accuracy: 0.9792226630828961 | val accuracy: 0.9797711947874839\n",
      "Epoch 10/15\t| train loss: 0.09188703131650022 | val loss: 0.08800868100512592 | train accuracy: 0.9792226630828961 | val accuracy: 0.9797711947874839\n",
      "Epoch 11/15\t| train loss: 0.09006798006757885 | val loss: 0.08629367108525869 | train accuracy: 0.9792226630828961 | val accuracy: 0.9797711947874839\n",
      "Epoch 12/15\t| train loss: 0.08824458009576239 | val loss: 0.08522862503215466 | train accuracy: 0.9792226630828961 | val accuracy: 0.9797711947874839\n",
      "Epoch 13/15\t| train loss: 0.08681857476803027 | val loss: 0.08541375254749738 | train accuracy: 0.9792179226455433 | val accuracy: 0.9797711947874839\n",
      "Epoch 14/15\t| train loss: 0.0853765796554047 | val loss: 0.08393182435384622 | train accuracy: 0.9792084417708378 | val accuracy: 0.9797333131297825\n",
      "Epoch 15/15\t| train loss: 0.08490614181424805 | val loss: 0.08285919772461763 | train accuracy: 0.9792179226455433 | val accuracy: 0.9797333131297825\n",
      "\n"
     ]
    }
   ],
   "source": [
    "# Validation accuracies\n",
    "val_accuracy = {}\n",
    "\n",
    "# Learning rate update enabled\n",
    "lr_update = learning_rate_update[0]\n",
    "\n",
    "# Training loop\n",
    "for do in dropout:\n",
    "    for lr in learning_rate:\n",
    "        # Create pattern branch and redirect to device\n",
    "        pattern_cnn = PatternCNN(sequence_length, sequence_channels, pattern_kernel_1d, pattern_linear_size, dropout[1])\n",
    "        pattern_cnn.to(DEVICE)\n",
    "            \n",
    "        # Create custom branch model and redirect to device\n",
    "        custom_cnn = CustomCNN(sequence_length, sequence_channels, custom_kernel_1d, custom_kernel_2d, custom_linear_size, dropout[0])\n",
    "        custom_cnn.to(DEVICE)\n",
    "\n",
    "        # Create pattern-custom model and redirect to device\n",
    "        model_cnn = PatternCustomCNN(pattern_cnn, custom_cnn, linear_size, do)\n",
    "        model_cnn.to(DEVICE)\n",
    "            \n",
    "        # Construct model filename\n",
    "        do_str, lr_str, lr_update_str = str(do).replace('0.', ''), str(lr).replace('0.', ''), 'up' if lr_update else 'noup'\n",
    "        model_filename = f'pattern_custom_do_{do_str}_lr_{lr_str}_{lr_update_str}.pth'\n",
    "        print(f'{model_filename}', end='')\n",
    "            \n",
    "        # Check if exist trained model\n",
    "        if not os.path.isfile(f'./pretrained/{model_filename}'):\n",
    "            # Model status\n",
    "            print(' does not exist.')\n",
    "            # Run model training with hyperparameter\n",
    "            cnn_train_losses, cnn_val_losses, cnn_train_accuracies, cnn_val_accuracies = run_model(train_dl, val_dl, model_cnn, DEVICE, epochs, lr, lr_update)\n",
    "            # Save trained model\n",
    "            torch.save(model_cnn.state_dict(), f'./pretrained/{model_filename}')\n",
    "        else:\n",
    "            # Model status\n",
    "            print(' already exists.')\n",
    "            # Load trained model\n",
    "            model_cnn.load_state_dict(torch.load(f'./pretrained/{model_filename}'))\n",
    "            \n",
    "        # Dummy print\n",
    "        print()\n",
    "\n",
    "        # Accuracy over validation set\n",
    "        val_prob, val_pred, val_true = predict(model_cnn, val_dl, DEVICE)\n",
    "        val_accuracy[model_filename] = compute_accuracy(val_pred, val_true)"
   ]
  },
  {
   "cell_type": "code",
   "execution_count": 92,
   "metadata": {},
   "outputs": [
    {
     "name": "stdout",
     "output_type": "stream",
     "text": [
      "Validation accuracies: {'pattern_custom_do_1_lr_01_up.pth': 0.9797711947874839, 'pattern_custom_do_1_lr_001_up.pth': 0.9848473369194636, 'pattern_custom_do_1_lr_0001_up.pth': 0.9797333131297825, 'pattern_custom_do_5_lr_01_up.pth': 0.9797711947874839, 'pattern_custom_do_5_lr_001_up.pth': 0.9842791120539435, 'pattern_custom_do_5_lr_0001_up.pth': 0.9797333131297825}\n"
     ]
    }
   ],
   "source": [
    "# Validation accuracies\n",
    "print(f'Validation accuracies: {val_accuracy}')"
   ]
  },
  {
   "cell_type": "code",
   "execution_count": 93,
   "metadata": {
    "tags": []
   },
   "outputs": [
    {
     "name": "stdout",
     "output_type": "stream",
     "text": [
      "Best model according to validation: pattern_custom_do_1_lr_001_up.pth\n"
     ]
    }
   ],
   "source": [
    "# Model filename with minimum validation accuracy\n",
    "best_model_filename = max(val_accuracy, key=val_accuracy.get)\n",
    "\n",
    "# Best model according to validation\n",
    "print(f'Best model according to validation: {best_model_filename}')"
   ]
  }
 ],
 "metadata": {
  "colab": {
   "authorship_tag": "ABX9TyNvA1NYlb+Hr4R33OAdfQ6S",
   "provenance": []
  },
  "kernelspec": {
   "display_name": "Python 3 (ipykernel)",
   "language": "python",
   "name": "python3"
  },
  "language_info": {
   "codemirror_mode": {
    "name": "ipython",
    "version": 3
   },
   "file_extension": ".py",
   "mimetype": "text/x-python",
   "name": "python",
   "nbconvert_exporter": "python",
   "pygments_lexer": "ipython3",
   "version": "3.11.7"
  }
 },
 "nbformat": 4,
 "nbformat_minor": 4
}
